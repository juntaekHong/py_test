{
 "cells": [
  {
   "cell_type": "code",
   "execution_count": 2,
   "metadata": {},
   "outputs": [],
   "source": [
    "import pymysql"
   ]
  },
  {
   "cell_type": "code",
   "execution_count": null,
   "metadata": {},
   "outputs": [],
   "source": [
    "#1.Class 생성 Database\n",
    "class Datebase():\n",
    "    def __init__(self):\n",
    "        self.start = pymysql.connect(\n",
    "            user = \"root\", # mysql 아이디\n",
    "            passwd = \"*Bethewannabe27\",\n",
    "            host =\"localhost\",\n",
    "            db = \"ubion\"\n",
    "            )\n",
    "        self.start.cursor()\n",
    "    \n",
    "    def __execute__(self,_sql,_value):\n",
    "        self.excute=cursor.execute(_sql, _value)\n",
    "\n",
    "    def __excuteAll__(self,_sql,_value):\n",
    "        result=cursor.fetchall()\n",
    "        return result\n",
    "    \n",
    "    def __commit__(self):\n",
    "        self.commit()\n",
    "    \n",
    "    \n",
    "    "
   ]
  },
  {
   "cell_type": "code",
   "execution_count": null,
   "metadata": {},
   "outputs": [],
   "source": []
  }
 ],
 "metadata": {
  "interpreter": {
   "hash": "f4ba335b1acc55db6b97d63129af6fbe6175843e0be64b2659003ca573354abf"
  },
  "kernelspec": {
   "display_name": "Python 3.10.1 64-bit",
   "language": "python",
   "name": "python3"
  },
  "language_info": {
   "codemirror_mode": {
    "name": "ipython",
    "version": 3
   },
   "file_extension": ".py",
   "mimetype": "text/x-python",
   "name": "python",
   "nbconvert_exporter": "python",
   "pygments_lexer": "ipython3",
   "version": "3.10.1"
  },
  "orig_nbformat": 4
 },
 "nbformat": 4,
 "nbformat_minor": 2
}
