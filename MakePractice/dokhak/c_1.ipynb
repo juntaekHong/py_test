{
 "cells": [
  {
   "cell_type": "code",
   "execution_count": 1,
   "metadata": {},
   "outputs": [
    {
     "name": "stdout",
     "output_type": "stream",
     "text": [
      "인덱싱 할 수 없습니다.\n"
     ]
    }
   ],
   "source": [
    "try:\n",
    "    a = [1,2]\n",
    "    print(a[3])\n",
    "    4/0\n",
    "except ZeroDivisionError:\n",
    "    print(\"0으로 나눌 수 없습니다.\")\n",
    "except IndexError:\n",
    "    print(\"인덱싱 할 수 없습니다.\")"
   ]
  },
  {
   "cell_type": "code",
   "execution_count": null,
   "metadata": {},
   "outputs": [],
   "source": []
  }
 ],
 "metadata": {
  "interpreter": {
   "hash": "f4ba335b1acc55db6b97d63129af6fbe6175843e0be64b2659003ca573354abf"
  },
  "kernelspec": {
   "display_name": "Python 3.10.1 64-bit",
   "language": "python",
   "name": "python3"
  },
  "language_info": {
   "codemirror_mode": {
    "name": "ipython",
    "version": 3
   },
   "file_extension": ".py",
   "mimetype": "text/x-python",
   "name": "python",
   "nbconvert_exporter": "python",
   "pygments_lexer": "ipython3",
   "version": "3.10.1"
  },
  "orig_nbformat": 4
 },
 "nbformat": 4,
 "nbformat_minor": 2
}
