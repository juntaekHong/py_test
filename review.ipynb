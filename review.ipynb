{
 "cells": [
  {
   "cell_type": "code",
   "execution_count": 1,
   "metadata": {},
   "outputs": [
    {
     "name": "stdout",
     "output_type": "stream",
     "text": [
      "5\n",
      "2\n",
      "8\n",
      "1\n"
     ]
    }
   ],
   "source": [
    "list_a =[5,2,8,1]\n",
    "\n",
    "for list in list_a:\n",
    "    print(list) #리스트 복습 기존 for i 형태아닌걸로 나타내심."
   ]
  },
  {
   "cell_type": "code",
   "execution_count": 2,
   "metadata": {},
   "outputs": [
    {
     "name": "stdout",
     "output_type": "stream",
     "text": [
      "5\n",
      "2\n",
      "8\n",
      "1\n"
     ]
    }
   ],
   "source": [
    "for i in range(0,len(list_a)):#시작값과 종료값 디폴트값 각각 0,1(괄호안에 없다면 0,1값이라는거임)\n",
    "    print(list_a[i]) "
   ]
  },
  {
   "cell_type": "code",
   "execution_count": 3,
   "metadata": {},
   "outputs": [
    {
     "name": "stdout",
     "output_type": "stream",
     "text": [
      "0 0\n",
      "0 1\n",
      "0 2\n",
      "0 3\n",
      "0 4\n",
      "0 5\n",
      "1 0\n",
      "1 1\n",
      "1 2\n",
      "1 3\n",
      "1 4\n",
      "1 5\n",
      "2 0\n",
      "2 1\n",
      "2 2\n",
      "2 3\n",
      "2 4\n",
      "2 5\n",
      "3 0\n",
      "3 1\n",
      "3 2\n",
      "3 3\n",
      "3 4\n",
      "3 5\n",
      "4 0\n",
      "4 1\n",
      "4 2\n",
      "4 3\n",
      "4 4\n",
      "4 5\n",
      "5 0\n",
      "5 1\n",
      "5 2\n",
      "5 3\n",
      "5 4\n",
      "5 5\n"
     ]
    }
   ],
   "source": [
    "for i in range(6):\n",
    "    for j in range(6):\n",
    "        print(i,j) #i,j형태로 넣어서 총개수 36개 0~5개씩\n",
    "                    # 0돌아가고 0~5 6개\n",
    "                    # 1돌아가고 0~5 6개\n",
    "                    # 2돌아가고 0~5 6개\n",
    "                    # 3돌아가고 0~5 6개\n",
    "                    # 4돌아가고 0~5 6개\n",
    "                    # 5돌아가고 0~5 6개\n",
    "                    "
   ]
  },
  {
   "cell_type": "code",
   "execution_count": 4,
   "metadata": {},
   "outputs": [],
   "source": [
    "import numpy as np #넘파이복슴"
   ]
  },
  {
   "cell_type": "code",
   "execution_count": 5,
   "metadata": {},
   "outputs": [],
   "source": [
    "n_a = np.random.random((10,2)) #랜덤으로 10행 2열"
   ]
  },
  {
   "cell_type": "code",
   "execution_count": 6,
   "metadata": {},
   "outputs": [
    {
     "data": {
      "text/plain": [
       "array([[0.68788236, 1.        ],\n",
       "       [0.26508902, 0.        ],\n",
       "       [0.31163037, 1.        ],\n",
       "       [0.59149591, 0.        ],\n",
       "       [0.89289321, 0.        ],\n",
       "       [0.5747559 , 1.        ],\n",
       "       [0.56295908, 0.        ],\n",
       "       [0.20924835, 0.        ],\n",
       "       [0.24452218, 0.        ],\n",
       "       [0.69536709, 1.        ]])"
      ]
     },
     "execution_count": 6,
     "metadata": {},
     "output_type": "execute_result"
    }
   ],
   "source": [
    "#이 부분은 선생님께서 문제 내주셨어요\n",
    "#for i 하는데 랜덤으로 대신에 2열에서만\n",
    "#0.5미만이면 0으로 0.5이상은 1로 나타내기\n",
    "for i in range(len(n_a)):\n",
    "    if n_a[i][1] > 0.5 :\n",
    "        n_a[i][1]=1\n",
    "    else :\n",
    "        n_a[i][1]=0\n",
    "n_a"
   ]
  },
  {
   "cell_type": "code",
   "execution_count": 7,
   "metadata": {},
   "outputs": [],
   "source": [
    "import pandas as pd #넘파이 말고 판다스로 나타내기"
   ]
  },
  {
   "cell_type": "code",
   "execution_count": 8,
   "metadata": {},
   "outputs": [
    {
     "data": {
      "text/html": [
       "<div>\n",
       "<style scoped>\n",
       "    .dataframe tbody tr th:only-of-type {\n",
       "        vertical-align: middle;\n",
       "    }\n",
       "\n",
       "    .dataframe tbody tr th {\n",
       "        vertical-align: top;\n",
       "    }\n",
       "\n",
       "    .dataframe thead th {\n",
       "        text-align: right;\n",
       "    }\n",
       "</style>\n",
       "<table border=\"1\" class=\"dataframe\">\n",
       "  <thead>\n",
       "    <tr style=\"text-align: right;\">\n",
       "      <th></th>\n",
       "      <th>0</th>\n",
       "      <th>1</th>\n",
       "    </tr>\n",
       "  </thead>\n",
       "  <tbody>\n",
       "    <tr>\n",
       "      <th>0</th>\n",
       "      <td>0.823057</td>\n",
       "      <td>0.928210</td>\n",
       "    </tr>\n",
       "    <tr>\n",
       "      <th>1</th>\n",
       "      <td>0.952797</td>\n",
       "      <td>0.415726</td>\n",
       "    </tr>\n",
       "    <tr>\n",
       "      <th>2</th>\n",
       "      <td>0.524347</td>\n",
       "      <td>0.437125</td>\n",
       "    </tr>\n",
       "    <tr>\n",
       "      <th>3</th>\n",
       "      <td>0.346469</td>\n",
       "      <td>0.966952</td>\n",
       "    </tr>\n",
       "    <tr>\n",
       "      <th>4</th>\n",
       "      <td>0.231027</td>\n",
       "      <td>0.223888</td>\n",
       "    </tr>\n",
       "    <tr>\n",
       "      <th>5</th>\n",
       "      <td>0.688882</td>\n",
       "      <td>0.435223</td>\n",
       "    </tr>\n",
       "    <tr>\n",
       "      <th>6</th>\n",
       "      <td>0.709130</td>\n",
       "      <td>0.748876</td>\n",
       "    </tr>\n",
       "    <tr>\n",
       "      <th>7</th>\n",
       "      <td>0.758716</td>\n",
       "      <td>0.315662</td>\n",
       "    </tr>\n",
       "    <tr>\n",
       "      <th>8</th>\n",
       "      <td>0.500349</td>\n",
       "      <td>0.228726</td>\n",
       "    </tr>\n",
       "    <tr>\n",
       "      <th>9</th>\n",
       "      <td>0.278715</td>\n",
       "      <td>0.688160</td>\n",
       "    </tr>\n",
       "  </tbody>\n",
       "</table>\n",
       "</div>"
      ],
      "text/plain": [
       "          0         1\n",
       "0  0.823057  0.928210\n",
       "1  0.952797  0.415726\n",
       "2  0.524347  0.437125\n",
       "3  0.346469  0.966952\n",
       "4  0.231027  0.223888\n",
       "5  0.688882  0.435223\n",
       "6  0.709130  0.748876\n",
       "7  0.758716  0.315662\n",
       "8  0.500349  0.228726\n",
       "9  0.278715  0.688160"
      ]
     },
     "execution_count": 8,
     "metadata": {},
     "output_type": "execute_result"
    }
   ],
   "source": [
    "n_a = np.random.random((10,2)) #넘파이를 판다스로 만들어보기\n",
    "\n",
    "n_a\n",
    "dt= pd.DataFrame(n_a) #판다스로 데이터프레임 만들어주기\n",
    "dt"
   ]
  },
  {
   "cell_type": "code",
   "execution_count": 9,
   "metadata": {},
   "outputs": [
    {
     "data": {
      "text/plain": [
       "0    1.0\n",
       "1    0.0\n",
       "2    0.0\n",
       "3    1.0\n",
       "4    0.0\n",
       "5    0.0\n",
       "6    1.0\n",
       "7    0.0\n",
       "8    0.0\n",
       "9    1.0\n",
       "Name: 1, dtype: float64"
      ]
     },
     "execution_count": 9,
     "metadata": {},
     "output_type": "execute_result"
    }
   ],
   "source": [
    "dt[1].round(0) #이거는 선생님께서 넘파이에서 2열을 \n",
    "(#이 부분은 선생님께서 문제 내주셨어요\n",
    "#for i 하는데 랜덤으로 대신에 2열에서만\n",
    "#0.5미만이면 0으로 0.5이상은 1로 나타내기)이렇게 내주셨잖아요?\n",
    "#한줄로 쉽게 판다스에서는 나타낼 수 있는걸 문제로 내주셨어요."
   ]
  },
  {
   "cell_type": "code",
   "execution_count": 10,
   "metadata": {},
   "outputs": [],
   "source": [
    "dt[1]=dt[1].apply(lambda x:1 if (x>0.5) else 0)\n",
    "#판다스에서 apply써서 lambda를 통해서 하는 다른 방법도 알려주셨구요!"
   ]
  },
  {
   "cell_type": "code",
   "execution_count": 11,
   "metadata": {},
   "outputs": [],
   "source": [
    "def _round(x):#이렇게 직접 만들어서 apply를 통해서 하는 방법도 알려주셨어요!\n",
    "    if x > 0.5:\n",
    "        return 1\n",
    "    else:\n",
    "        return 0\n",
    "    "
   ]
  },
  {
   "cell_type": "code",
   "execution_count": 12,
   "metadata": {},
   "outputs": [
    {
     "data": {
      "text/plain": [
       "0    1\n",
       "1    0\n",
       "2    0\n",
       "3    1\n",
       "4    0\n",
       "5    0\n",
       "6    1\n",
       "7    0\n",
       "8    0\n",
       "9    1\n",
       "Name: 1, dtype: int64"
      ]
     },
     "execution_count": 12,
     "metadata": {},
     "output_type": "execute_result"
    }
   ],
   "source": [
    "dt[1].apply(_round) # 그 다음이 상속부분이었어요!"
   ]
  },
  {
   "cell_type": "code",
   "execution_count": 1,
   "metadata": {},
   "outputs": [],
   "source": [
    "_list=[1,2,3,4,5]\n",
    "y=tuple(map(lambda x : x-1,_list))"
   ]
  },
  {
   "cell_type": "code",
   "execution_count": 2,
   "metadata": {},
   "outputs": [
    {
     "data": {
      "text/plain": [
       "(0, 1, 2, 3, 4)"
      ]
     },
     "execution_count": 2,
     "metadata": {},
     "output_type": "execute_result"
    }
   ],
   "source": [
    "y"
   ]
  },
  {
   "cell_type": "code",
   "execution_count": 4,
   "metadata": {},
   "outputs": [],
   "source": [
    "def change(x):\n",
    "    return x+1\n",
    "\n",
    "z=list(map(change,_list))\n"
   ]
  },
  {
   "cell_type": "code",
   "execution_count": 5,
   "metadata": {},
   "outputs": [
    {
     "data": {
      "text/plain": [
       "[2, 3, 4, 5, 6]"
      ]
     },
     "execution_count": 5,
     "metadata": {},
     "output_type": "execute_result"
    }
   ],
   "source": [
    "z"
   ]
  },
  {
   "cell_type": "code",
   "execution_count": 6,
   "metadata": {},
   "outputs": [],
   "source": [
    "a=list(zip([1,2,5],[3,4,1],[5,6,1]))"
   ]
  },
  {
   "cell_type": "code",
   "execution_count": 7,
   "metadata": {},
   "outputs": [
    {
     "data": {
      "text/plain": [
       "[(1, 3, 5), (2, 4, 6), (5, 1, 1)]"
      ]
     },
     "execution_count": 7,
     "metadata": {},
     "output_type": "execute_result"
    }
   ],
   "source": [
    "a"
   ]
  },
  {
   "cell_type": "code",
   "execution_count": null,
   "metadata": {},
   "outputs": [],
   "source": [
    " "
   ]
  }
 ],
 "metadata": {
  "interpreter": {
   "hash": "f4ba335b1acc55db6b97d63129af6fbe6175843e0be64b2659003ca573354abf"
  },
  "kernelspec": {
   "display_name": "Python 3.10.1 64-bit",
   "language": "python",
   "name": "python3"
  },
  "language_info": {
   "codemirror_mode": {
    "name": "ipython",
    "version": 3
   },
   "file_extension": ".py",
   "mimetype": "text/x-python",
   "name": "python",
   "nbconvert_exporter": "python",
   "pygments_lexer": "ipython3",
   "version": "3.10.1"
  },
  "orig_nbformat": 4
 },
 "nbformat": 4,
 "nbformat_minor": 2
}
