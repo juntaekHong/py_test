{
 "cells": [
  {
   "cell_type": "code",
   "execution_count": 20,
   "metadata": {},
   "outputs": [],
   "source": [
    "import pymysql\n",
    "import pandas as pd"
   ]
  },
  {
   "cell_type": "code",
   "execution_count": 21,
   "metadata": {},
   "outputs": [],
   "source": [
    "_db =  pymysql.connect(\n",
    "    user=\"root\",\n",
    "    passwd=\"*Bethewannabe27\",\n",
    "    host=\"localhost\",\n",
    "    db=\"ubion\")"
   ]
  },
  {
   "cell_type": "code",
   "execution_count": 22,
   "metadata": {},
   "outputs": [],
   "source": [
    "cursor = _db.cursor(pymysql.cursors.DictCursor)"
   ]
  },
  {
   "cell_type": "code",
   "execution_count": 23,
   "metadata": {},
   "outputs": [
    {
     "name": "stdout",
     "output_type": "stream",
     "text": [
      "[{'ID': 'tese4', 'password': '9876', 'phone': '01071182039', 'ads': 'Africa', 'gender': 2, 'age': 8, 'regit_date': '20220310', 'name': 'Ttochi'}, {'ID': 'test', 'password': '1234', 'phone': '01012345678', 'ads': '??? ??? ???', 'gender': 1, 'age': 45, 'regit_date': '20220310', 'name': '???'}, {'ID': 'test2', 'password': '4567', 'phone': '01057862039', 'ads': 'arctic', 'gender': 1, 'age': 10, 'regit_date': '20220310', 'name': 'doolli'}, {'ID': 'test3', 'password': '1234333', 'phone': '01058482739', 'ads': 'next from doolli', 'gender': 1, 'age': 29, 'regit_date': '20220310', 'name': 'micole'}, {'ID': 'test4', 'password': '9876', 'phone': '01071182039', 'ads': 'Africa', 'gender': 2, 'age': 8, 'regit_date': '20220310', 'name': 'Ttochi'}]\n"
     ]
    }
   ],
   "source": [
    "sql=\"SELECT * FROM user_info\"\n",
    "\n",
    "cursor.execute(sql)\n",
    "result=cursor.fetchall()\n",
    "print(result)"
   ]
  },
  {
   "cell_type": "code",
   "execution_count": 24,
   "metadata": {},
   "outputs": [
    {
     "data": {
      "text/html": [
       "<div>\n",
       "<style scoped>\n",
       "    .dataframe tbody tr th:only-of-type {\n",
       "        vertical-align: middle;\n",
       "    }\n",
       "\n",
       "    .dataframe tbody tr th {\n",
       "        vertical-align: top;\n",
       "    }\n",
       "\n",
       "    .dataframe thead th {\n",
       "        text-align: right;\n",
       "    }\n",
       "</style>\n",
       "<table border=\"1\" class=\"dataframe\">\n",
       "  <thead>\n",
       "    <tr style=\"text-align: right;\">\n",
       "      <th></th>\n",
       "      <th>ID</th>\n",
       "      <th>password</th>\n",
       "      <th>phone</th>\n",
       "      <th>ads</th>\n",
       "      <th>gender</th>\n",
       "      <th>age</th>\n",
       "      <th>regit_date</th>\n",
       "      <th>name</th>\n",
       "    </tr>\n",
       "  </thead>\n",
       "  <tbody>\n",
       "    <tr>\n",
       "      <th>0</th>\n",
       "      <td>tese4</td>\n",
       "      <td>9876</td>\n",
       "      <td>01071182039</td>\n",
       "      <td>Africa</td>\n",
       "      <td>2</td>\n",
       "      <td>8</td>\n",
       "      <td>20220310</td>\n",
       "      <td>Ttochi</td>\n",
       "    </tr>\n",
       "    <tr>\n",
       "      <th>1</th>\n",
       "      <td>test</td>\n",
       "      <td>1234</td>\n",
       "      <td>01012345678</td>\n",
       "      <td>??? ??? ???</td>\n",
       "      <td>1</td>\n",
       "      <td>45</td>\n",
       "      <td>20220310</td>\n",
       "      <td>???</td>\n",
       "    </tr>\n",
       "    <tr>\n",
       "      <th>2</th>\n",
       "      <td>test2</td>\n",
       "      <td>4567</td>\n",
       "      <td>01057862039</td>\n",
       "      <td>arctic</td>\n",
       "      <td>1</td>\n",
       "      <td>10</td>\n",
       "      <td>20220310</td>\n",
       "      <td>doolli</td>\n",
       "    </tr>\n",
       "    <tr>\n",
       "      <th>3</th>\n",
       "      <td>test3</td>\n",
       "      <td>1234333</td>\n",
       "      <td>01058482739</td>\n",
       "      <td>next from doolli</td>\n",
       "      <td>1</td>\n",
       "      <td>29</td>\n",
       "      <td>20220310</td>\n",
       "      <td>micole</td>\n",
       "    </tr>\n",
       "    <tr>\n",
       "      <th>4</th>\n",
       "      <td>test4</td>\n",
       "      <td>9876</td>\n",
       "      <td>01071182039</td>\n",
       "      <td>Africa</td>\n",
       "      <td>2</td>\n",
       "      <td>8</td>\n",
       "      <td>20220310</td>\n",
       "      <td>Ttochi</td>\n",
       "    </tr>\n",
       "  </tbody>\n",
       "</table>\n",
       "</div>"
      ],
      "text/plain": [
       "      ID password        phone               ads  gender  age regit_date  \\\n",
       "0  tese4     9876  01071182039            Africa       2    8   20220310   \n",
       "1   test     1234  01012345678       ??? ??? ???       1   45   20220310   \n",
       "2  test2     4567  01057862039            arctic       1   10   20220310   \n",
       "3  test3  1234333  01058482739  next from doolli       1   29   20220310   \n",
       "4  test4     9876  01071182039            Africa       2    8   20220310   \n",
       "\n",
       "     name  \n",
       "0  Ttochi  \n",
       "1     ???  \n",
       "2  doolli  \n",
       "3  micole  \n",
       "4  Ttochi  "
      ]
     },
     "execution_count": 24,
     "metadata": {},
     "output_type": "execute_result"
    }
   ],
   "source": [
    "#result를 데이터프레임으로 만들어봅시다!!!\n",
    "#\n",
    "dt=pd.DataFrame(result)\n",
    "dt"
   ]
  },
  {
   "cell_type": "code",
   "execution_count": 6,
   "metadata": {},
   "outputs": [
    {
     "ename": "TypeError",
     "evalue": "not all arguments converted during string formatting",
     "output_type": "error",
     "traceback": [
      "\u001b[1;31m---------------------------------------------------------------------------\u001b[0m",
      "\u001b[1;31mTypeError\u001b[0m                                 Traceback (most recent call last)",
      "\u001b[1;32mc:\\Users\\jangd\\OneDrive\\바탕 화면\\Bigdata_process\\python\\MakePractice\\server\\2020310.ipynb Cell 6'\u001b[0m in \u001b[0;36m<cell line: 5>\u001b[1;34m()\u001b[0m\n\u001b[0;32m      <a href='vscode-notebook-cell:/c%3A/Users/jangd/OneDrive/%EB%B0%94%ED%83%95%20%ED%99%94%EB%A9%B4/Bigdata_process/python/MakePractice/server/2020310.ipynb#ch0000005?line=0'>1</a>\u001b[0m \u001b[39m#sql ='insert into user_info values(%s,%s,%s,%s,%s,%s,%s,%s)'\u001b[39;00m\n\u001b[0;32m      <a href='vscode-notebook-cell:/c%3A/Users/jangd/OneDrive/%EB%B0%94%ED%83%95%20%ED%99%94%EB%A9%B4/Bigdata_process/python/MakePractice/server/2020310.ipynb#ch0000005?line=1'>2</a>\u001b[0m \u001b[39m#sql에서는 s만씀\u001b[39;00m\n\u001b[0;32m      <a href='vscode-notebook-cell:/c%3A/Users/jangd/OneDrive/%EB%B0%94%ED%83%95%20%ED%99%94%EB%A9%B4/Bigdata_process/python/MakePractice/server/2020310.ipynb#ch0000005?line=2'>3</a>\u001b[0m \u001b[39m#f는 실수\u001b[39;00m\n\u001b[0;32m      <a href='vscode-notebook-cell:/c%3A/Users/jangd/OneDrive/%EB%B0%94%ED%83%95%20%ED%99%94%EB%A9%B4/Bigdata_process/python/MakePractice/server/2020310.ipynb#ch0000005?line=3'>4</a>\u001b[0m values \u001b[39m=\u001b[39m[\u001b[39m\"\u001b[39m\u001b[39mtest4\u001b[39m\u001b[39m\"\u001b[39m,\u001b[39m\"\u001b[39m\u001b[39m9876\u001b[39m\u001b[39m\"\u001b[39m,\u001b[39m\"\u001b[39m\u001b[39m01071182039\u001b[39m\u001b[39m\"\u001b[39m,\u001b[39m\"\u001b[39m\u001b[39mAfrica\u001b[39m\u001b[39m\"\u001b[39m,\u001b[39m2\u001b[39m,\u001b[39m8\u001b[39m,\u001b[39m\"\u001b[39m\u001b[39m20220310\u001b[39m\u001b[39m\"\u001b[39m,\u001b[39m\"\u001b[39m\u001b[39mTtochi\u001b[39m\u001b[39m\"\u001b[39m]\n\u001b[1;32m----> <a href='vscode-notebook-cell:/c%3A/Users/jangd/OneDrive/%EB%B0%94%ED%83%95%20%ED%99%94%EB%A9%B4/Bigdata_process/python/MakePractice/server/2020310.ipynb#ch0000005?line=4'>5</a>\u001b[0m cursor\u001b[39m.\u001b[39;49mexecute(sql,values)\n\u001b[0;32m      <a href='vscode-notebook-cell:/c%3A/Users/jangd/OneDrive/%EB%B0%94%ED%83%95%20%ED%99%94%EB%A9%B4/Bigdata_process/python/MakePractice/server/2020310.ipynb#ch0000005?line=5'>6</a>\u001b[0m _db\u001b[39m.\u001b[39mcommit()\n",
      "File \u001b[1;32m~\\AppData\\Local\\Programs\\Python\\Python310\\lib\\site-packages\\pymysql\\cursors.py:146\u001b[0m, in \u001b[0;36mCursor.execute\u001b[1;34m(self, query, args)\u001b[0m\n\u001b[0;32m    <a href='file:///c%3A/Users/jangd/AppData/Local/Programs/Python/Python310/lib/site-packages/pymysql/cursors.py?line=142'>143</a>\u001b[0m \u001b[39mwhile\u001b[39;00m \u001b[39mself\u001b[39m\u001b[39m.\u001b[39mnextset():\n\u001b[0;32m    <a href='file:///c%3A/Users/jangd/AppData/Local/Programs/Python/Python310/lib/site-packages/pymysql/cursors.py?line=143'>144</a>\u001b[0m     \u001b[39mpass\u001b[39;00m\n\u001b[1;32m--> <a href='file:///c%3A/Users/jangd/AppData/Local/Programs/Python/Python310/lib/site-packages/pymysql/cursors.py?line=145'>146</a>\u001b[0m query \u001b[39m=\u001b[39m \u001b[39mself\u001b[39;49m\u001b[39m.\u001b[39;49mmogrify(query, args)\n\u001b[0;32m    <a href='file:///c%3A/Users/jangd/AppData/Local/Programs/Python/Python310/lib/site-packages/pymysql/cursors.py?line=147'>148</a>\u001b[0m result \u001b[39m=\u001b[39m \u001b[39mself\u001b[39m\u001b[39m.\u001b[39m_query(query)\n\u001b[0;32m    <a href='file:///c%3A/Users/jangd/AppData/Local/Programs/Python/Python310/lib/site-packages/pymysql/cursors.py?line=148'>149</a>\u001b[0m \u001b[39mself\u001b[39m\u001b[39m.\u001b[39m_executed \u001b[39m=\u001b[39m query\n",
      "File \u001b[1;32m~\\AppData\\Local\\Programs\\Python\\Python310\\lib\\site-packages\\pymysql\\cursors.py:125\u001b[0m, in \u001b[0;36mCursor.mogrify\u001b[1;34m(self, query, args)\u001b[0m\n\u001b[0;32m    <a href='file:///c%3A/Users/jangd/AppData/Local/Programs/Python/Python310/lib/site-packages/pymysql/cursors.py?line=121'>122</a>\u001b[0m conn \u001b[39m=\u001b[39m \u001b[39mself\u001b[39m\u001b[39m.\u001b[39m_get_db()\n\u001b[0;32m    <a href='file:///c%3A/Users/jangd/AppData/Local/Programs/Python/Python310/lib/site-packages/pymysql/cursors.py?line=123'>124</a>\u001b[0m \u001b[39mif\u001b[39;00m args \u001b[39mis\u001b[39;00m \u001b[39mnot\u001b[39;00m \u001b[39mNone\u001b[39;00m:\n\u001b[1;32m--> <a href='file:///c%3A/Users/jangd/AppData/Local/Programs/Python/Python310/lib/site-packages/pymysql/cursors.py?line=124'>125</a>\u001b[0m     query \u001b[39m=\u001b[39m query \u001b[39m%\u001b[39;49m \u001b[39mself\u001b[39;49m\u001b[39m.\u001b[39;49m_escape_args(args, conn)\n\u001b[0;32m    <a href='file:///c%3A/Users/jangd/AppData/Local/Programs/Python/Python310/lib/site-packages/pymysql/cursors.py?line=126'>127</a>\u001b[0m \u001b[39mreturn\u001b[39;00m query\n",
      "\u001b[1;31mTypeError\u001b[0m: not all arguments converted during string formatting"
     ]
    }
   ],
   "source": [
    "#sql ='insert into user_info values(%s,%s,%s,%s,%s,%s,%s,%s)'\n",
    "#sql에서는 s만씀\n",
    "#f는 실수\n",
    "values =[\"test4\",\"9876\",\"01071182039\",\"Africa\",2,8,\"20220310\",\"Ttochi\"]\n",
    "cursor.execute(sql,values)\n",
    "_db.commit()"
   ]
  },
  {
   "cell_type": "code",
   "execution_count": 44,
   "metadata": {},
   "outputs": [
    {
     "data": {
      "text/plain": [
       "<pymysql.cursors.Cursor at 0x1cef9c1db40>"
      ]
     },
     "execution_count": 44,
     "metadata": {},
     "output_type": "execute_result"
    }
   ],
   "source": [
    "\n",
    "ID=input(\"ID :\")\n",
    "pw=input(\"password :\")\n",
    "phone=input(\"phone :\")\n",
    "ads=input(\"address :\")\n",
    "gender=int(input(\"gender :\"))\n",
    "age=int(input(\"age :\"))\n",
    "regit_date= input(\"regit_date :\")\n",
    "name=input(\"name :\")\n",
    "input_list =[ID,pw,phone,ads,gender,age,regit_date,name]\n",
    "#숫자를 넣어도 int굳이 안해도됨\n",
    "cursor.execute(sql,input_list)\n",
    "_db.cursor() #안된이유 sql변수명 을 다르게 써야함"
   ]
  },
  {
   "cell_type": "code",
   "execution_count": 8,
   "metadata": {},
   "outputs": [
    {
     "name": "stdout",
     "output_type": "stream",
     "text": [
      "\n",
      "/\n",
      "@\n",
      "#\n",
      "$\n",
      "%\n",
      "^\n"
     ]
    }
   ],
   "source": [
    "update_sql = \"\"\"\n",
    "/\n",
    "@\n",
    "#\n",
    "$\n",
    "%\n",
    "^\"\"\"#큰따옴표든 작은 따옴표든 세번씩하면 줄바껴도 할 수 있음.\n",
    "#길어져서 줄바꿈을 해줌\n",
    "print(update_sql)"
   ]
  },
  {
   "cell_type": "code",
   "execution_count": 17,
   "metadata": {},
   "outputs": [],
   "source": [
    "update_sql_1 = \"\"\"\n",
    "                    UPDATE user_info\n",
    "                    SET phone = \"01058482739\"\n",
    "                    Where name = \"micole\"\n",
    "                \"\"\""
   ]
  },
  {
   "cell_type": "code",
   "execution_count": 18,
   "metadata": {},
   "outputs": [],
   "source": [
    "cursor.execute(update_sql_1)\n",
    "_db.commit() #데이터베이스 커밋"
   ]
  },
  {
   "cell_type": "code",
   "execution_count": 26,
   "metadata": {},
   "outputs": [],
   "source": [
    "delete_sql_2=\"\"\"\n",
    "            DELETE FROM user_info\n",
    "            where ID=\"test\"\n",
    "            \"\"\"\n"
   ]
  },
  {
   "cell_type": "code",
   "execution_count": 28,
   "metadata": {},
   "outputs": [],
   "source": [
    "cursor.execute(delete_sql_2)\n",
    "_db.commit() #데이터베이스 커밋"
   ]
  },
  {
   "cell_type": "code",
   "execution_count": null,
   "metadata": {},
   "outputs": [],
   "source": []
  }
 ],
 "metadata": {
  "interpreter": {
   "hash": "f4ba335b1acc55db6b97d63129af6fbe6175843e0be64b2659003ca573354abf"
  },
  "kernelspec": {
   "display_name": "Python 3.10.1 64-bit",
   "language": "python",
   "name": "python3"
  },
  "language_info": {
   "codemirror_mode": {
    "name": "ipython",
    "version": 3
   },
   "file_extension": ".py",
   "mimetype": "text/x-python",
   "name": "python",
   "nbconvert_exporter": "python",
   "pygments_lexer": "ipython3",
   "version": "3.10.1"
  },
  "orig_nbformat": 4
 },
 "nbformat": 4,
 "nbformat_minor": 2
}
