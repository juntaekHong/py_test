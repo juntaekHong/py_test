{
 "cells": [
  {
   "cell_type": "code",
   "execution_count": 2,
   "metadata": {},
   "outputs": [],
   "source": [
    "import numpy as np\n",
    "import matplotlib.pyplot as plt"
   ]
  },
  {
   "cell_type": "code",
   "execution_count": 3,
   "metadata": {},
   "outputs": [
    {
     "data": {
      "text/plain": [
       "array([10, 20, 30, 40, 50, 60, 70, 80, 90])"
      ]
     },
     "execution_count": 3,
     "metadata": {},
     "output_type": "execute_result"
    }
   ],
   "source": [
    " x = np.array([10,20,30,40,50,60,70,80,90])\n",
    " x"
   ]
  },
  {
   "cell_type": "code",
   "execution_count": 4,
   "metadata": {},
   "outputs": [
    {
     "data": {
      "text/plain": [
       "array([10, 30, 50, 70, 90])"
      ]
     },
     "execution_count": 4,
     "metadata": {},
     "output_type": "execute_result"
    }
   ],
   "source": [
    "x_ = np.array(x[0:9:2])\n",
    "x_"
   ]
  },
  {
   "cell_type": "code",
   "execution_count": 5,
   "metadata": {},
   "outputs": [
    {
     "data": {
      "text/plain": [
       "array([10, 40, 70])"
      ]
     },
     "execution_count": 5,
     "metadata": {},
     "output_type": "execute_result"
    }
   ],
   "source": [
    "x_ = np.array(x[0:9:3])\n",
    "x_"
   ]
  },
  {
   "cell_type": "code",
   "execution_count": 6,
   "metadata": {},
   "outputs": [
    {
     "data": {
      "text/plain": [
       "[<matplotlib.lines.Line2D at 0x1f6e47f0ca0>]"
      ]
     },
     "execution_count": 6,
     "metadata": {},
     "output_type": "execute_result"
    },
    {
     "data": {
      "image/png": "[encoded data removed]",
      "text/plain": [
       "<Figure size 432x288 with 1 Axes>"
      ]
     },
     "metadata": {
      "needs_background": "light"
     },
     "output_type": "display_data"
    }
   ],
   "source": [
    "x=np.linspace(0,10,3)\n",
    "plt.plot(x)\n",
    "#시작값과 종료값이 나오고 n개로 나뉨"
   ]
  },
  {
   "cell_type": "code",
   "execution_count": 7,
   "metadata": {},
   "outputs": [
    {
     "data": {
      "text/plain": [
       "[<matplotlib.lines.Line2D at 0x1f6e68e3460>]"
      ]
     },
     "execution_count": 7,
     "metadata": {},
     "output_type": "execute_result"
    },
    {
     "data": {
      "image/png": "[encoded data removed]",
      "text/plain": [
       "<Figure size 432x288 with 1 Axes>"
      ]
     },
     "metadata": {
      "needs_background": "light"
     },
     "output_type": "display_data"
    }
   ],
   "source": [
    "y=np.logspace(2,5,100)\n",
    "#np.logspace(2,5,10)\n",
    "plt.plot(y)"
   ]
  },
  {
   "cell_type": "code",
   "execution_count": 8,
   "metadata": {},
   "outputs": [
    {
     "data": {
      "text/plain": [
       "(array([47, 22, 82, 19, 85, 15, 89, 74, 26, 11]),\n",
       " array([47, 22, 82, 19, 85, 15, 89, 74, 26, 11]),\n",
       " array([50, 25, 82, 32, 53, 92, 85, 17, 44, 59]))"
      ]
     },
     "execution_count": 8,
     "metadata": {},
     "output_type": "execute_result"
    }
   ],
   "source": [
    "np.random.seed(1)\n",
    "result=np.random.randint(10,100,10)\n",
    "np.random.seed(1)\n",
    "result_1=np.random.randint(10,100,10)\n",
    "np.random.seed(2)\n",
    "result_3=np.random.randint(10,100,10)\n",
    "\n",
    "result,result_1,result_3\n",
    "#seed를 고정하면 고정된 값이 나옴\n",
    "#seed에 뭘넣냐에 따라 다르게 나옴"
   ]
  },
  {
   "cell_type": "code",
   "execution_count": 9,
   "metadata": {},
   "outputs": [
    {
     "data": {
      "text/plain": [
       "array([0.20464863, 0.61927097, 0.29965467, 0.26682728, 0.62113383,\n",
       "       0.52914209, 0.13457995, 0.51357812, 0.18443987, 0.78533515])"
      ]
     },
     "execution_count": 9,
     "metadata": {},
     "output_type": "execute_result"
    }
   ],
   "source": [
    "np.random.rand(10)\n"
   ]
  },
  {
   "cell_type": "code",
   "execution_count": 10,
   "metadata": {},
   "outputs": [
    {
     "data": {
      "text/plain": [
       "array([-0.0191305 ,  1.17500122, -0.74787095,  0.00902525, -0.87810789,\n",
       "       -0.15643417,  0.25657045, -0.98877905, -0.33882197, -0.23618403])"
      ]
     },
     "execution_count": 10,
     "metadata": {},
     "output_type": "execute_result"
    }
   ],
   "source": [
    "np.random.randn(10)\n",
    "#음수도 출력이 되고, 1보다 큰 숫자도 나옴"
   ]
  },
  {
   "cell_type": "code",
   "execution_count": 11,
   "metadata": {},
   "outputs": [
    {
     "data": {
      "text/plain": [
       "array([[80, 50, 40, 47],\n",
       "       [ 9, 51, 16,  9],\n",
       "       [18, 23, 74, 58]])"
      ]
     },
     "execution_count": 11,
     "metadata": {},
     "output_type": "execute_result"
    }
   ],
   "source": [
    "r=np.random.randint(1,100,(3,4))\n",
    "r\n",
    "#np.random.randint(1,100,10)"
   ]
  },
  {
   "cell_type": "code",
   "execution_count": 12,
   "metadata": {},
   "outputs": [
    {
     "data": {
      "text/plain": [
       "array([[18, 23, 74, 58],\n",
       "       [80, 50, 40, 47],\n",
       "       [ 9, 51, 16,  9]])"
      ]
     },
     "execution_count": 12,
     "metadata": {},
     "output_type": "execute_result"
    }
   ],
   "source": [
    "\n",
    "np.random.shuffle(r)\n",
    "r"
   ]
  },
  {
   "cell_type": "code",
   "execution_count": 13,
   "metadata": {},
   "outputs": [],
   "source": [
    "a=[1,9,25,49]\n",
    "a_str=np.sqrt(a)"
   ]
  },
  {
   "cell_type": "code",
   "execution_count": 14,
   "metadata": {},
   "outputs": [
    {
     "data": {
      "text/plain": [
       "array([1., 3., 5., 7.])"
      ]
     },
     "execution_count": 14,
     "metadata": {},
     "output_type": "execute_result"
    }
   ],
   "source": [
    "a_str"
   ]
  },
  {
   "cell_type": "code",
   "execution_count": 15,
   "metadata": {},
   "outputs": [
    {
     "data": {
      "text/plain": [
       "array([ 1,  9, 25, 49])"
      ]
     },
     "execution_count": 15,
     "metadata": {},
     "output_type": "execute_result"
    }
   ],
   "source": [
    "a=[1,3,5,7]\n",
    "a_sq=np.square(a)\n",
    "a_sq"
   ]
  },
  {
   "cell_type": "code",
   "execution_count": 16,
   "metadata": {},
   "outputs": [
    {
     "data": {
      "text/plain": [
       "1.0"
      ]
     },
     "execution_count": 16,
     "metadata": {},
     "output_type": "execute_result"
    }
   ],
   "source": [
    "np.exp(0)"
   ]
  },
  {
   "cell_type": "code",
   "execution_count": 17,
   "metadata": {},
   "outputs": [
    {
     "data": {
      "text/plain": [
       "2.718281828459045"
      ]
     },
     "execution_count": 17,
     "metadata": {},
     "output_type": "execute_result"
    }
   ],
   "source": [
    "np.exp(4)\n",
    "np.exp(1)"
   ]
  },
  {
   "cell_type": "code",
   "execution_count": 18,
   "metadata": {},
   "outputs": [
    {
     "data": {
      "text/plain": [
       "array([-5. , -4.9, -4.8, -4.7, -4.6, -4.5, -4.4, -4.3, -4.2, -4.1, -4. ,\n",
       "       -3.9, -3.8, -3.7, -3.6, -3.5, -3.4, -3.3, -3.2, -3.1, -3. , -2.9,\n",
       "       -2.8, -2.7, -2.6, -2.5, -2.4, -2.3, -2.2, -2.1, -2. , -1.9, -1.8,\n",
       "       -1.7, -1.6, -1.5, -1.4, -1.3, -1.2, -1.1, -1. , -0.9, -0.8, -0.7,\n",
       "       -0.6, -0.5, -0.4, -0.3, -0.2, -0.1,  0. ,  0.1,  0.2,  0.3,  0.4,\n",
       "        0.5,  0.6,  0.7,  0.8,  0.9,  1. ,  1.1,  1.2,  1.3,  1.4,  1.5,\n",
       "        1.6,  1.7,  1.8,  1.9,  2. ,  2.1,  2.2,  2.3,  2.4,  2.5,  2.6,\n",
       "        2.7,  2.8,  2.9,  3. ,  3.1,  3.2,  3.3,  3.4,  3.5,  3.6,  3.7,\n",
       "        3.8,  3.9,  4. ,  4.1,  4.2,  4.3,  4.4,  4.5,  4.6,  4.7,  4.8,\n",
       "        4.9,  5. ])"
      ]
     },
     "execution_count": 18,
     "metadata": {},
     "output_type": "execute_result"
    }
   ],
   "source": [
    "x = np.linspace(-5,5,101)\n",
    "x"
   ]
  },
  {
   "cell_type": "code",
   "execution_count": 19,
   "metadata": {},
   "outputs": [
    {
     "data": {
      "text/plain": [
       "array([1.48671951e-06, 2.43896075e-06, 3.96129909e-06, 6.36982518e-06,\n",
       "       1.01408521e-05, 1.59837411e-05, 2.49424713e-05, 3.85351967e-05,\n",
       "       5.89430678e-05, 8.92616572e-05, 1.33830226e-04, 1.98655471e-04,\n",
       "       2.91946926e-04, 4.24780271e-04, 6.11901930e-04, 8.72682695e-04,\n",
       "       1.23221917e-03, 1.72256894e-03, 2.38408820e-03, 3.26681906e-03,\n",
       "       4.43184841e-03, 5.95253242e-03, 7.91545158e-03, 1.04209348e-02,\n",
       "       1.35829692e-02, 1.75283005e-02, 2.23945303e-02, 2.83270377e-02,\n",
       "       3.54745928e-02, 4.39835960e-02, 5.39909665e-02, 6.56158148e-02,\n",
       "       7.89501583e-02, 9.40490774e-02, 1.10920835e-01, 1.29517596e-01,\n",
       "       1.49727466e-01, 1.71368592e-01, 1.94186055e-01, 2.17852177e-01,\n",
       "       2.41970725e-01, 2.66085250e-01, 2.89691553e-01, 3.12253933e-01,\n",
       "       3.33224603e-01, 3.52065327e-01, 3.68270140e-01, 3.81387815e-01,\n",
       "       3.91042694e-01, 3.96952547e-01, 3.98942280e-01, 3.96952547e-01,\n",
       "       3.91042694e-01, 3.81387815e-01, 3.68270140e-01, 3.52065327e-01,\n",
       "       3.33224603e-01, 3.12253933e-01, 2.89691553e-01, 2.66085250e-01,\n",
       "       2.41970725e-01, 2.17852177e-01, 1.94186055e-01, 1.71368592e-01,\n",
       "       1.49727466e-01, 1.29517596e-01, 1.10920835e-01, 9.40490774e-02,\n",
       "       7.89501583e-02, 6.56158148e-02, 5.39909665e-02, 4.39835960e-02,\n",
       "       3.54745928e-02, 2.83270377e-02, 2.23945303e-02, 1.75283005e-02,\n",
       "       1.35829692e-02, 1.04209348e-02, 7.91545158e-03, 5.95253242e-03,\n",
       "       4.43184841e-03, 3.26681906e-03, 2.38408820e-03, 1.72256894e-03,\n",
       "       1.23221917e-03, 8.72682695e-04, 6.11901930e-04, 4.24780271e-04,\n",
       "       2.91946926e-04, 1.98655471e-04, 1.33830226e-04, 8.92616572e-05,\n",
       "       5.89430678e-05, 3.85351967e-05, 2.49424713e-05, 1.59837411e-05,\n",
       "       1.01408521e-05, 6.36982518e-06, 3.96129909e-06, 2.43896075e-06,\n",
       "       1.48671951e-06])"
      ]
     },
     "execution_count": 19,
     "metadata": {},
     "output_type": "execute_result"
    }
   ],
   "source": [
    "y=(1/np.sqrt(2*np.pi))*np.exp(-x**2/2)\n",
    "y"
   ]
  },
  {
   "cell_type": "code",
   "execution_count": 20,
   "metadata": {},
   "outputs": [
    {
     "data": {
      "image/png": "[encoded data removed]",
      "text/plain": [
       "<Figure size 432x288 with 1 Axes>"
      ]
     },
     "metadata": {
      "needs_background": "light"
     },
     "output_type": "display_data"
    }
   ],
   "source": [
    "plt.plot(x,y)\n",
    "plt.xlabel(\"x\")\n",
    "plt.ylabel(\"y\")\n",
    "plt.show()"
   ]
  },
  {
   "cell_type": "code",
   "execution_count": 21,
   "metadata": {},
   "outputs": [],
   "source": [
    "import scipy.stats as stats"
   ]
  },
  {
   "cell_type": "code",
   "execution_count": 22,
   "metadata": {},
   "outputs": [
    {
     "data": {
      "text/plain": [
       "array([1.48671951e-06, 2.43896075e-06, 3.96129909e-06, 6.36982518e-06,\n",
       "       1.01408521e-05, 1.59837411e-05, 2.49424713e-05, 3.85351967e-05,\n",
       "       5.89430678e-05, 8.92616572e-05, 1.33830226e-04, 1.98655471e-04,\n",
       "       2.91946926e-04, 4.24780271e-04, 6.11901930e-04, 8.72682695e-04,\n",
       "       1.23221917e-03, 1.72256894e-03, 2.38408820e-03, 3.26681906e-03,\n",
       "       4.43184841e-03, 5.95253242e-03, 7.91545158e-03, 1.04209348e-02,\n",
       "       1.35829692e-02, 1.75283005e-02, 2.23945303e-02, 2.83270377e-02,\n",
       "       3.54745928e-02, 4.39835960e-02, 5.39909665e-02, 6.56158148e-02,\n",
       "       7.89501583e-02, 9.40490774e-02, 1.10920835e-01, 1.29517596e-01,\n",
       "       1.49727466e-01, 1.71368592e-01, 1.94186055e-01, 2.17852177e-01,\n",
       "       2.41970725e-01, 2.66085250e-01, 2.89691553e-01, 3.12253933e-01,\n",
       "       3.33224603e-01, 3.52065327e-01, 3.68270140e-01, 3.81387815e-01,\n",
       "       3.91042694e-01, 3.96952547e-01, 3.98942280e-01, 3.96952547e-01,\n",
       "       3.91042694e-01, 3.81387815e-01, 3.68270140e-01, 3.52065327e-01,\n",
       "       3.33224603e-01, 3.12253933e-01, 2.89691553e-01, 2.66085250e-01,\n",
       "       2.41970725e-01, 2.17852177e-01, 1.94186055e-01, 1.71368592e-01,\n",
       "       1.49727466e-01, 1.29517596e-01, 1.10920835e-01, 9.40490774e-02,\n",
       "       7.89501583e-02, 6.56158148e-02, 5.39909665e-02, 4.39835960e-02,\n",
       "       3.54745928e-02, 2.83270377e-02, 2.23945303e-02, 1.75283005e-02,\n",
       "       1.35829692e-02, 1.04209348e-02, 7.91545158e-03, 5.95253242e-03,\n",
       "       4.43184841e-03, 3.26681906e-03, 2.38408820e-03, 1.72256894e-03,\n",
       "       1.23221917e-03, 8.72682695e-04, 6.11901930e-04, 4.24780271e-04,\n",
       "       2.91946926e-04, 1.98655471e-04, 1.33830226e-04, 8.92616572e-05,\n",
       "       5.89430678e-05, 3.85351967e-05, 2.49424713e-05, 1.59837411e-05,\n",
       "       1.01408521e-05, 6.36982518e-06, 3.96129909e-06, 2.43896075e-06,\n",
       "       1.48671951e-06])"
      ]
     },
     "execution_count": 22,
     "metadata": {},
     "output_type": "execute_result"
    }
   ],
   "source": [
    "y_=stats.norm(0,1).pdf(x)\n",
    "#평균과 표준편차\n",
    "#pdf는 정규분포를 나타내는 수학식\n",
    "y_"
   ]
  },
  {
   "cell_type": "code",
   "execution_count": 23,
   "metadata": {},
   "outputs": [
    {
     "data": {
      "image/png": "[encoded data removed]",
      "text/plain": [
       "<Figure size 432x288 with 1 Axes>"
      ]
     },
     "metadata": {
      "needs_background": "light"
     },
     "output_type": "display_data"
    }
   ],
   "source": [
    "plt.plot(x,y_)\n",
    "plt.xlabel('x')\n",
    "plt.ylabel('y')\n",
    "plt.show()"
   ]
  },
  {
   "cell_type": "code",
   "execution_count": 24,
   "metadata": {},
   "outputs": [
    {
     "data": {
      "text/plain": [
       "array([-20. , -19.6, -19.2, -18.8, -18.4, -18. , -17.6, -17.2, -16.8,\n",
       "       -16.4, -16. , -15.6, -15.2, -14.8, -14.4, -14. , -13.6, -13.2,\n",
       "       -12.8, -12.4, -12. , -11.6, -11.2, -10.8, -10.4, -10. ,  -9.6,\n",
       "        -9.2,  -8.8,  -8.4,  -8. ,  -7.6,  -7.2,  -6.8,  -6.4,  -6. ,\n",
       "        -5.6,  -5.2,  -4.8,  -4.4,  -4. ,  -3.6,  -3.2,  -2.8,  -2.4,\n",
       "        -2. ,  -1.6,  -1.2,  -0.8,  -0.4,   0. ,   0.4,   0.8,   1.2,\n",
       "         1.6,   2. ,   2.4,   2.8,   3.2,   3.6,   4. ,   4.4,   4.8,\n",
       "         5.2,   5.6,   6. ,   6.4,   6.8,   7.2,   7.6,   8. ,   8.4,\n",
       "         8.8,   9.2,   9.6,  10. ,  10.4,  10.8,  11.2,  11.6,  12. ,\n",
       "        12.4,  12.8,  13.2,  13.6,  14. ,  14.4,  14.8,  15.2,  15.6,\n",
       "        16. ,  16.4,  16.8,  17.2,  17.6,  18. ,  18.4,  18.8,  19.2,\n",
       "        19.6,  20. ])"
      ]
     },
     "execution_count": 24,
     "metadata": {},
     "output_type": "execute_result"
    }
   ],
   "source": [
    "def norm(_a,_b,_x):\n",
    "    return stats.norm(_a,_b).pdf(_x)\n",
    "        \n",
    "x=np.linspace(-20,20,101)\n",
    "x"
   ]
  },
  {
   "cell_type": "code",
   "execution_count": 25,
   "metadata": {},
   "outputs": [
    {
     "data": {
      "image/png": "[encoded data removed]",
      "text/plain": [
       "<Figure size 432x288 with 1 Axes>"
      ]
     },
     "metadata": {
      "needs_background": "light"
     },
     "output_type": "display_data"
    }
   ],
   "source": [
    "for i in range(1,11,1):\n",
    "    _y= norm(0,i,x)\n",
    "    plt.plot(x,_y)\n",
    "plt.show()"
   ]
  },
  {
   "cell_type": "code",
   "execution_count": 26,
   "metadata": {},
   "outputs": [
    {
     "data": {
      "image/png": "[encoded data removed]",
      "text/plain": [
       "<Figure size 432x288 with 1 Axes>"
      ]
     },
     "metadata": {
      "needs_background": "light"
     },
     "output_type": "display_data"
    }
   ],
   "source": [
    "for i in range(1,11,1):\n",
    "    _y= norm(i,i,x)\n",
    "    plt.plot(x,_y)\n",
    "plt.show()"
   ]
  },
  {
   "cell_type": "code",
   "execution_count": 27,
   "metadata": {},
   "outputs": [
    {
     "data": {
      "text/plain": [
       "array([72, 93, 53, 42, 36, 18, 86, 20, 50, 44])"
      ]
     },
     "execution_count": 27,
     "metadata": {},
     "output_type": "execute_result"
    }
   ],
   "source": [
    "a = np.random.randint(10,100,10)\n",
    "#10부터 100까지 10개\n",
    "a"
   ]
  },
  {
   "cell_type": "code",
   "execution_count": 28,
   "metadata": {},
   "outputs": [
    {
     "data": {
      "text/plain": [
       "(array([2., 0., 0., 0., 0., 0., 0., 1., 0., 1., 1., 0., 1., 0., 1., 0., 0.,\n",
       "        0., 0., 0., 0., 1., 0., 0., 0., 0., 0., 1., 0., 1.]),\n",
       " array([18. , 20.5, 23. , 25.5, 28. , 30.5, 33. , 35.5, 38. , 40.5, 43. ,\n",
       "        45.5, 48. , 50.5, 53. , 55.5, 58. , 60.5, 63. , 65.5, 68. , 70.5,\n",
       "        73. , 75.5, 78. , 80.5, 83. , 85.5, 88. , 90.5, 93. ]),\n",
       " <BarContainer object of 30 artists>)"
      ]
     },
     "execution_count": 28,
     "metadata": {},
     "output_type": "execute_result"
    },
    {
     "data": {
      "image/png": "[encoded data removed]",
      "text/plain": [
       "<Figure size 432x288 with 1 Axes>"
      ]
     },
     "metadata": {
      "needs_background": "light"
     },
     "output_type": "display_data"
    }
   ],
   "source": [
    "plt.hist(a)\n",
    "plt.hist(a,bins=30)\n",
    "#bins 개수에 맞춰서 나옴\n",
    "#기본이 10이라서 안써줘도 됨"
   ]
  },
  {
   "cell_type": "code",
   "execution_count": 29,
   "metadata": {},
   "outputs": [
    {
     "data": {
      "text/plain": [
       "(array([ 2.,  2.,  3.,  5.,  7.,  7.,  7.,  8.,  8., 10.]),\n",
       " array([18. , 25.5, 33. , 40.5, 48. , 55.5, 63. , 70.5, 78. , 85.5, 93. ]),\n",
       " <BarContainer object of 10 artists>)"
      ]
     },
     "execution_count": 29,
     "metadata": {},
     "output_type": "execute_result"
    },
    {
     "data": {
      "image/png": "[encoded data removed]",
      "text/plain": [
       "<Figure size 432x288 with 1 Axes>"
      ]
     },
     "metadata": {
      "needs_background": "light"
     },
     "output_type": "display_data"
    }
   ],
   "source": [
    "plt.hist(a,cumulative=True)"
   ]
  },
  {
   "cell_type": "code",
   "execution_count": 30,
   "metadata": {},
   "outputs": [
    {
     "data": {
      "text/plain": [
       "(array([0.02666667, 0.        , 0.01333333, 0.02666667, 0.02666667,\n",
       "        0.        , 0.        , 0.01333333, 0.        , 0.02666667]),\n",
       " array([18. , 25.5, 33. , 40.5, 48. , 55.5, 63. , 70.5, 78. , 85.5, 93. ]),\n",
       " <BarContainer object of 10 artists>)"
      ]
     },
     "execution_count": 30,
     "metadata": {},
     "output_type": "execute_result"
    },
    {
     "data": {
      "image/png": "[encoded data removed]",
      "text/plain": [
       "<Figure size 432x288 with 1 Axes>"
      ]
     },
     "metadata": {
      "needs_background": "light"
     },
     "output_type": "display_data"
    }
   ],
   "source": [
    "plt.hist(a,density=True)"
   ]
  },
  {
   "cell_type": "code",
   "execution_count": 31,
   "metadata": {},
   "outputs": [],
   "source": [
    "import numpy\n",
    "x= np.random.randint(10,100,5)\n",
    "labels=[\"A\",\"B\",\"C\",\"D\",\"E\"]\n"
   ]
  },
  {
   "cell_type": "code",
   "execution_count": 32,
   "metadata": {},
   "outputs": [
    {
     "data": {
      "image/png": "[encoded data removed]",
      "text/plain": [
       "<Figure size 432x288 with 1 Axes>"
      ]
     },
     "metadata": {},
     "output_type": "display_data"
    }
   ],
   "source": [
    "explodes=[0,0.10,0.1,0,0.10]\n",
    "plt.pie(x,autopct='%.1f%%',labels=labels,counterclock=False,startangle=10,explode=explodes)\n",
    "plt.show()\n",
    "#1f소수점 첫째자리까지, 2f는 소수점 둘째자리까지\n",
    "#시계방향으로 돌아가는 FALSE\n",
    "#STARTANGLE은 시작하는 위치를 지정해주는 것\n"
   ]
  },
  {
   "cell_type": "code",
   "execution_count": 42,
   "metadata": {},
   "outputs": [],
   "source": [
    "x= np.linspace(1,10,10)\n",
    "y=np.random.rand(10).round(1)\n",
    "#x에 세번째꺼랑 y꺼랑 개수가 같아야함 그래야 그래프가 그려짐"
   ]
  },
  {
   "cell_type": "code",
   "execution_count": 43,
   "metadata": {},
   "outputs": [
    {
     "data": {
      "image/png": "[encoded data removed]",
      "text/plain": [
       "<Figure size 432x288 with 1 Axes>"
      ]
     },
     "metadata": {
      "needs_background": "light"
     },
     "output_type": "display_data"
    }
   ],
   "source": [
    "plt.plot(x,y)\n",
    "plt.xticks(np.arange(min(x),max(x)+1,1.0))\n",
    "plt.yticks(np.arange(min(y),max(y)+0.1,0.1).round(1))\n",
    "\n",
    "plt.xlabel(\"X\")\n",
    "plt.ylabel(\"Y\")\n",
    "plt.legend(\"X\",loc=2)\n",
    "#legend 범례 나오게 함  loc는 범례 위치\n",
    "plt.grid()\n",
    "plt.show()\n",
    "\n",
    "\n",
    "\n",
    "#xticks 밑에 눈금 \n",
    "#grid는 평면에 눈금선들 "
   ]
  },
  {
   "cell_type": "code",
   "execution_count": 45,
   "metadata": {},
   "outputs": [
    {
     "data": {
      "text/plain": [
       "(array([0.6, 0.5, 0.4, 0.6, 0.1, 0.4, 0.2, 0.8, 0.8, 0.6]),\n",
       " array([ 1.,  2.,  3.,  4.,  5.,  6.,  7.,  8.,  9., 10.]))"
      ]
     },
     "execution_count": 45,
     "metadata": {},
     "output_type": "execute_result"
    }
   ],
   "source": [
    "y= np.linspace(1,10,10)\n",
    "x=np.random.rand(10).round(1)\n",
    "x,y"
   ]
  },
  {
   "cell_type": "code",
   "execution_count": 52,
   "metadata": {},
   "outputs": [
    {
     "data": {
      "image/png": "[encoded data removed]",
      "text/plain": [
       "<Figure size 432x288 with 1 Axes>"
      ]
     },
     "metadata": {
      "needs_background": "light"
     },
     "output_type": "display_data"
    }
   ],
   "source": [
    "plt.barh(y,x)\n",
    "#x축과 y축이 바뀌는 것\n",
    "plt.savefig(\"test.png\",dpi=200,facecolor=\"red\")\n",
    "#이미지로 바꾸는 것 savefig"
   ]
  },
  {
   "cell_type": "code",
   "execution_count": 2,
   "metadata": {},
   "outputs": [],
   "source": [
    "import yfinance as yf\n",
    "import pandas as pd"
   ]
  },
  {
   "cell_type": "code",
   "execution_count": 3,
   "metadata": {},
   "outputs": [
    {
     "name": "stdout",
     "output_type": "stream",
     "text": [
      "[*********************100%***********************]  1 of 1 completed\n"
     ]
    },
    {
     "data": {
      "text/html": [
       "<div>\n",
       "<style scoped>\n",
       "    .dataframe tbody tr th:only-of-type {\n",
       "        vertical-align: middle;\n",
       "    }\n",
       "\n",
       "    .dataframe tbody tr th {\n",
       "        vertical-align: top;\n",
       "    }\n",
       "\n",
       "    .dataframe thead th {\n",
       "        text-align: right;\n",
       "    }\n",
       "</style>\n",
       "<table border=\"1\" class=\"dataframe\">\n",
       "  <thead>\n",
       "    <tr style=\"text-align: right;\">\n",
       "      <th></th>\n",
       "      <th>Open</th>\n",
       "      <th>High</th>\n",
       "      <th>Low</th>\n",
       "      <th>Close</th>\n",
       "      <th>Adj Close</th>\n",
       "      <th>Volume</th>\n",
       "    </tr>\n",
       "    <tr>\n",
       "      <th>Date</th>\n",
       "      <th></th>\n",
       "      <th></th>\n",
       "      <th></th>\n",
       "      <th></th>\n",
       "      <th></th>\n",
       "      <th></th>\n",
       "    </tr>\n",
       "  </thead>\n",
       "  <tbody>\n",
       "    <tr>\n",
       "      <th>2018-12-31</th>\n",
       "      <td>39.632500</td>\n",
       "      <td>39.840000</td>\n",
       "      <td>39.119999</td>\n",
       "      <td>39.435001</td>\n",
       "      <td>38.233902</td>\n",
       "      <td>140014000</td>\n",
       "    </tr>\n",
       "    <tr>\n",
       "      <th>2019-01-02</th>\n",
       "      <td>38.722500</td>\n",
       "      <td>39.712502</td>\n",
       "      <td>38.557499</td>\n",
       "      <td>39.480000</td>\n",
       "      <td>38.277519</td>\n",
       "      <td>148158800</td>\n",
       "    </tr>\n",
       "    <tr>\n",
       "      <th>2019-01-03</th>\n",
       "      <td>35.994999</td>\n",
       "      <td>36.430000</td>\n",
       "      <td>35.500000</td>\n",
       "      <td>35.547501</td>\n",
       "      <td>34.464802</td>\n",
       "      <td>365248800</td>\n",
       "    </tr>\n",
       "    <tr>\n",
       "      <th>2019-01-04</th>\n",
       "      <td>36.132500</td>\n",
       "      <td>37.137501</td>\n",
       "      <td>35.950001</td>\n",
       "      <td>37.064999</td>\n",
       "      <td>35.936089</td>\n",
       "      <td>234428400</td>\n",
       "    </tr>\n",
       "    <tr>\n",
       "      <th>2019-01-07</th>\n",
       "      <td>37.174999</td>\n",
       "      <td>37.207500</td>\n",
       "      <td>36.474998</td>\n",
       "      <td>36.982498</td>\n",
       "      <td>35.856087</td>\n",
       "      <td>219111200</td>\n",
       "    </tr>\n",
       "    <tr>\n",
       "      <th>...</th>\n",
       "      <td>...</td>\n",
       "      <td>...</td>\n",
       "      <td>...</td>\n",
       "      <td>...</td>\n",
       "      <td>...</td>\n",
       "      <td>...</td>\n",
       "    </tr>\n",
       "    <tr>\n",
       "      <th>2022-03-14</th>\n",
       "      <td>151.449997</td>\n",
       "      <td>154.119995</td>\n",
       "      <td>150.100006</td>\n",
       "      <td>150.619995</td>\n",
       "      <td>150.619995</td>\n",
       "      <td>108732100</td>\n",
       "    </tr>\n",
       "    <tr>\n",
       "      <th>2022-03-15</th>\n",
       "      <td>150.899994</td>\n",
       "      <td>155.570007</td>\n",
       "      <td>150.380005</td>\n",
       "      <td>155.089996</td>\n",
       "      <td>155.089996</td>\n",
       "      <td>92964300</td>\n",
       "    </tr>\n",
       "    <tr>\n",
       "      <th>2022-03-16</th>\n",
       "      <td>157.050003</td>\n",
       "      <td>160.000000</td>\n",
       "      <td>154.460007</td>\n",
       "      <td>159.589996</td>\n",
       "      <td>159.589996</td>\n",
       "      <td>102300200</td>\n",
       "    </tr>\n",
       "    <tr>\n",
       "      <th>2022-03-17</th>\n",
       "      <td>158.610001</td>\n",
       "      <td>161.000000</td>\n",
       "      <td>157.630005</td>\n",
       "      <td>160.619995</td>\n",
       "      <td>160.619995</td>\n",
       "      <td>75615400</td>\n",
       "    </tr>\n",
       "    <tr>\n",
       "      <th>2022-03-18</th>\n",
       "      <td>160.509995</td>\n",
       "      <td>164.479996</td>\n",
       "      <td>159.759995</td>\n",
       "      <td>163.979996</td>\n",
       "      <td>163.979996</td>\n",
       "      <td>123351200</td>\n",
       "    </tr>\n",
       "  </tbody>\n",
       "</table>\n",
       "<p>811 rows × 6 columns</p>\n",
       "</div>"
      ],
      "text/plain": [
       "                  Open        High         Low       Close   Adj Close  \\\n",
       "Date                                                                     \n",
       "2018-12-31   39.632500   39.840000   39.119999   39.435001   38.233902   \n",
       "2019-01-02   38.722500   39.712502   38.557499   39.480000   38.277519   \n",
       "2019-01-03   35.994999   36.430000   35.500000   35.547501   34.464802   \n",
       "2019-01-04   36.132500   37.137501   35.950001   37.064999   35.936089   \n",
       "2019-01-07   37.174999   37.207500   36.474998   36.982498   35.856087   \n",
       "...                ...         ...         ...         ...         ...   \n",
       "2022-03-14  151.449997  154.119995  150.100006  150.619995  150.619995   \n",
       "2022-03-15  150.899994  155.570007  150.380005  155.089996  155.089996   \n",
       "2022-03-16  157.050003  160.000000  154.460007  159.589996  159.589996   \n",
       "2022-03-17  158.610001  161.000000  157.630005  160.619995  160.619995   \n",
       "2022-03-18  160.509995  164.479996  159.759995  163.979996  163.979996   \n",
       "\n",
       "               Volume  \n",
       "Date                   \n",
       "2018-12-31  140014000  \n",
       "2019-01-02  148158800  \n",
       "2019-01-03  365248800  \n",
       "2019-01-04  234428400  \n",
       "2019-01-07  219111200  \n",
       "...               ...  \n",
       "2022-03-14  108732100  \n",
       "2022-03-15   92964300  \n",
       "2022-03-16  102300200  \n",
       "2022-03-17   75615400  \n",
       "2022-03-18  123351200  \n",
       "\n",
       "[811 rows x 6 columns]"
      ]
     },
     "execution_count": 3,
     "metadata": {},
     "output_type": "execute_result"
    }
   ],
   "source": [
    "yf.download('AAPL',start='2019-01-01') #뒤에 인자값들을 시작값으로함. 스타트는 1월1일인데 전날도 포함된\n"
   ]
  },
  {
   "cell_type": "code",
   "execution_count": 15,
   "metadata": {},
   "outputs": [
    {
     "name": "stdout",
     "output_type": "stream",
     "text": [
      "[*********************100%***********************]  4 of 4 completed\n"
     ]
    },
    {
     "data": {
      "text/html": [
       "<div>\n",
       "<style scoped>\n",
       "    .dataframe tbody tr th:only-of-type {\n",
       "        vertical-align: middle;\n",
       "    }\n",
       "\n",
       "    .dataframe tbody tr th {\n",
       "        vertical-align: top;\n",
       "    }\n",
       "\n",
       "    .dataframe thead tr th {\n",
       "        text-align: left;\n",
       "    }\n",
       "\n",
       "    .dataframe thead tr:last-of-type th {\n",
       "        text-align: right;\n",
       "    }\n",
       "</style>\n",
       "<table border=\"1\" class=\"dataframe\">\n",
       "  <thead>\n",
       "    <tr>\n",
       "      <th></th>\n",
       "      <th colspan=\"4\" halign=\"left\">Adj Close</th>\n",
       "      <th colspan=\"4\" halign=\"left\">Close</th>\n",
       "      <th colspan=\"2\" halign=\"left\">High</th>\n",
       "      <th>...</th>\n",
       "      <th colspan=\"2\" halign=\"left\">Low</th>\n",
       "      <th colspan=\"4\" halign=\"left\">Open</th>\n",
       "      <th colspan=\"4\" halign=\"left\">Volume</th>\n",
       "    </tr>\n",
       "    <tr>\n",
       "      <th></th>\n",
       "      <th>AAPL</th>\n",
       "      <th>AMZN</th>\n",
       "      <th>CPNG</th>\n",
       "      <th>TSLA</th>\n",
       "      <th>AAPL</th>\n",
       "      <th>AMZN</th>\n",
       "      <th>CPNG</th>\n",
       "      <th>TSLA</th>\n",
       "      <th>AAPL</th>\n",
       "      <th>AMZN</th>\n",
       "      <th>...</th>\n",
       "      <th>CPNG</th>\n",
       "      <th>TSLA</th>\n",
       "      <th>AAPL</th>\n",
       "      <th>AMZN</th>\n",
       "      <th>CPNG</th>\n",
       "      <th>TSLA</th>\n",
       "      <th>AAPL</th>\n",
       "      <th>AMZN</th>\n",
       "      <th>CPNG</th>\n",
       "      <th>TSLA</th>\n",
       "    </tr>\n",
       "    <tr>\n",
       "      <th>Date</th>\n",
       "      <th></th>\n",
       "      <th></th>\n",
       "      <th></th>\n",
       "      <th></th>\n",
       "      <th></th>\n",
       "      <th></th>\n",
       "      <th></th>\n",
       "      <th></th>\n",
       "      <th></th>\n",
       "      <th></th>\n",
       "      <th></th>\n",
       "      <th></th>\n",
       "      <th></th>\n",
       "      <th></th>\n",
       "      <th></th>\n",
       "      <th></th>\n",
       "      <th></th>\n",
       "      <th></th>\n",
       "      <th></th>\n",
       "      <th></th>\n",
       "      <th></th>\n",
       "    </tr>\n",
       "  </thead>\n",
       "  <tbody>\n",
       "    <tr>\n",
       "      <th>2018-12-31</th>\n",
       "      <td>38.233894</td>\n",
       "      <td>1501.969971</td>\n",
       "      <td>NaN</td>\n",
       "      <td>66.559998</td>\n",
       "      <td>39.435001</td>\n",
       "      <td>1501.969971</td>\n",
       "      <td>NaN</td>\n",
       "      <td>66.559998</td>\n",
       "      <td>39.840000</td>\n",
       "      <td>1520.760010</td>\n",
       "      <td>...</td>\n",
       "      <td>NaN</td>\n",
       "      <td>65.052002</td>\n",
       "      <td>39.632500</td>\n",
       "      <td>1510.800049</td>\n",
       "      <td>NaN</td>\n",
       "      <td>67.557999</td>\n",
       "      <td>140014000</td>\n",
       "      <td>6954500</td>\n",
       "      <td>NaN</td>\n",
       "      <td>31511500</td>\n",
       "    </tr>\n",
       "    <tr>\n",
       "      <th>2019-01-02</th>\n",
       "      <td>38.277523</td>\n",
       "      <td>1539.130005</td>\n",
       "      <td>NaN</td>\n",
       "      <td>62.023998</td>\n",
       "      <td>39.480000</td>\n",
       "      <td>1539.130005</td>\n",
       "      <td>NaN</td>\n",
       "      <td>62.023998</td>\n",
       "      <td>39.712502</td>\n",
       "      <td>1553.359985</td>\n",
       "      <td>...</td>\n",
       "      <td>NaN</td>\n",
       "      <td>59.759998</td>\n",
       "      <td>38.722500</td>\n",
       "      <td>1465.199951</td>\n",
       "      <td>NaN</td>\n",
       "      <td>61.220001</td>\n",
       "      <td>148158800</td>\n",
       "      <td>7983100</td>\n",
       "      <td>NaN</td>\n",
       "      <td>58293000</td>\n",
       "    </tr>\n",
       "    <tr>\n",
       "      <th>2019-01-03</th>\n",
       "      <td>34.464802</td>\n",
       "      <td>1500.280029</td>\n",
       "      <td>NaN</td>\n",
       "      <td>60.071999</td>\n",
       "      <td>35.547501</td>\n",
       "      <td>1500.280029</td>\n",
       "      <td>NaN</td>\n",
       "      <td>60.071999</td>\n",
       "      <td>36.430000</td>\n",
       "      <td>1538.000000</td>\n",
       "      <td>...</td>\n",
       "      <td>NaN</td>\n",
       "      <td>59.476002</td>\n",
       "      <td>35.994999</td>\n",
       "      <td>1520.010010</td>\n",
       "      <td>NaN</td>\n",
       "      <td>61.400002</td>\n",
       "      <td>365248800</td>\n",
       "      <td>6975600</td>\n",
       "      <td>NaN</td>\n",
       "      <td>34826000</td>\n",
       "    </tr>\n",
       "    <tr>\n",
       "      <th>2019-01-04</th>\n",
       "      <td>35.936081</td>\n",
       "      <td>1575.390015</td>\n",
       "      <td>NaN</td>\n",
       "      <td>63.537998</td>\n",
       "      <td>37.064999</td>\n",
       "      <td>1575.390015</td>\n",
       "      <td>NaN</td>\n",
       "      <td>63.537998</td>\n",
       "      <td>37.137501</td>\n",
       "      <td>1594.000000</td>\n",
       "      <td>...</td>\n",
       "      <td>NaN</td>\n",
       "      <td>60.546001</td>\n",
       "      <td>36.132500</td>\n",
       "      <td>1530.000000</td>\n",
       "      <td>NaN</td>\n",
       "      <td>61.200001</td>\n",
       "      <td>234428400</td>\n",
       "      <td>9182600</td>\n",
       "      <td>NaN</td>\n",
       "      <td>36970500</td>\n",
       "    </tr>\n",
       "    <tr>\n",
       "      <th>2019-01-07</th>\n",
       "      <td>35.856102</td>\n",
       "      <td>1629.510010</td>\n",
       "      <td>NaN</td>\n",
       "      <td>66.991997</td>\n",
       "      <td>36.982498</td>\n",
       "      <td>1629.510010</td>\n",
       "      <td>NaN</td>\n",
       "      <td>66.991997</td>\n",
       "      <td>37.207500</td>\n",
       "      <td>1634.560059</td>\n",
       "      <td>...</td>\n",
       "      <td>NaN</td>\n",
       "      <td>63.549999</td>\n",
       "      <td>37.174999</td>\n",
       "      <td>1602.310059</td>\n",
       "      <td>NaN</td>\n",
       "      <td>64.344002</td>\n",
       "      <td>219111200</td>\n",
       "      <td>7993200</td>\n",
       "      <td>NaN</td>\n",
       "      <td>37756000</td>\n",
       "    </tr>\n",
       "    <tr>\n",
       "      <th>...</th>\n",
       "      <td>...</td>\n",
       "      <td>...</td>\n",
       "      <td>...</td>\n",
       "      <td>...</td>\n",
       "      <td>...</td>\n",
       "      <td>...</td>\n",
       "      <td>...</td>\n",
       "      <td>...</td>\n",
       "      <td>...</td>\n",
       "      <td>...</td>\n",
       "      <td>...</td>\n",
       "      <td>...</td>\n",
       "      <td>...</td>\n",
       "      <td>...</td>\n",
       "      <td>...</td>\n",
       "      <td>...</td>\n",
       "      <td>...</td>\n",
       "      <td>...</td>\n",
       "      <td>...</td>\n",
       "      <td>...</td>\n",
       "      <td>...</td>\n",
       "    </tr>\n",
       "    <tr>\n",
       "      <th>2022-03-14</th>\n",
       "      <td>150.619995</td>\n",
       "      <td>2837.060059</td>\n",
       "      <td>16.120001</td>\n",
       "      <td>766.369995</td>\n",
       "      <td>150.619995</td>\n",
       "      <td>2837.060059</td>\n",
       "      <td>16.120001</td>\n",
       "      <td>766.369995</td>\n",
       "      <td>154.119995</td>\n",
       "      <td>2949.000000</td>\n",
       "      <td>...</td>\n",
       "      <td>15.920</td>\n",
       "      <td>756.039978</td>\n",
       "      <td>151.449997</td>\n",
       "      <td>2919.620117</td>\n",
       "      <td>17.040001</td>\n",
       "      <td>780.609985</td>\n",
       "      <td>108732100</td>\n",
       "      <td>3704300</td>\n",
       "      <td>17621600.0</td>\n",
       "      <td>23717400</td>\n",
       "    </tr>\n",
       "    <tr>\n",
       "      <th>2022-03-15</th>\n",
       "      <td>155.089996</td>\n",
       "      <td>2947.330078</td>\n",
       "      <td>15.450000</td>\n",
       "      <td>801.890015</td>\n",
       "      <td>155.089996</td>\n",
       "      <td>2947.330078</td>\n",
       "      <td>15.450000</td>\n",
       "      <td>801.890015</td>\n",
       "      <td>155.570007</td>\n",
       "      <td>2959.699951</td>\n",
       "      <td>...</td>\n",
       "      <td>15.275</td>\n",
       "      <td>756.570007</td>\n",
       "      <td>150.899994</td>\n",
       "      <td>2857.000000</td>\n",
       "      <td>16.070000</td>\n",
       "      <td>775.270020</td>\n",
       "      <td>92964300</td>\n",
       "      <td>3779200</td>\n",
       "      <td>30197600.0</td>\n",
       "      <td>22280400</td>\n",
       "    </tr>\n",
       "    <tr>\n",
       "      <th>2022-03-16</th>\n",
       "      <td>159.589996</td>\n",
       "      <td>3062.080078</td>\n",
       "      <td>18.090000</td>\n",
       "      <td>840.229980</td>\n",
       "      <td>159.589996</td>\n",
       "      <td>3062.080078</td>\n",
       "      <td>18.090000</td>\n",
       "      <td>840.229980</td>\n",
       "      <td>160.000000</td>\n",
       "      <td>3063.000000</td>\n",
       "      <td>...</td>\n",
       "      <td>15.820</td>\n",
       "      <td>802.260010</td>\n",
       "      <td>157.050003</td>\n",
       "      <td>2970.000000</td>\n",
       "      <td>16.000000</td>\n",
       "      <td>809.000000</td>\n",
       "      <td>102300200</td>\n",
       "      <td>4247900</td>\n",
       "      <td>40631500.0</td>\n",
       "      <td>28009600</td>\n",
       "    </tr>\n",
       "    <tr>\n",
       "      <th>2022-03-17</th>\n",
       "      <td>160.619995</td>\n",
       "      <td>3144.780029</td>\n",
       "      <td>19.200001</td>\n",
       "      <td>871.599976</td>\n",
       "      <td>160.619995</td>\n",
       "      <td>3144.780029</td>\n",
       "      <td>19.200001</td>\n",
       "      <td>871.599976</td>\n",
       "      <td>161.000000</td>\n",
       "      <td>3149.969971</td>\n",
       "      <td>...</td>\n",
       "      <td>17.400</td>\n",
       "      <td>825.719971</td>\n",
       "      <td>158.610001</td>\n",
       "      <td>3052.810059</td>\n",
       "      <td>17.680000</td>\n",
       "      <td>830.989990</td>\n",
       "      <td>75615400</td>\n",
       "      <td>3646700</td>\n",
       "      <td>19894800.0</td>\n",
       "      <td>22194300</td>\n",
       "    </tr>\n",
       "    <tr>\n",
       "      <th>2022-03-18</th>\n",
       "      <td>163.979996</td>\n",
       "      <td>3225.010010</td>\n",
       "      <td>19.240000</td>\n",
       "      <td>905.390015</td>\n",
       "      <td>163.979996</td>\n",
       "      <td>3225.010010</td>\n",
       "      <td>19.240000</td>\n",
       "      <td>905.390015</td>\n",
       "      <td>164.479996</td>\n",
       "      <td>3231.879883</td>\n",
       "      <td>...</td>\n",
       "      <td>18.490</td>\n",
       "      <td>867.390015</td>\n",
       "      <td>160.509995</td>\n",
       "      <td>3136.260010</td>\n",
       "      <td>18.629999</td>\n",
       "      <td>874.489990</td>\n",
       "      <td>123351200</td>\n",
       "      <td>5141300</td>\n",
       "      <td>16530900.0</td>\n",
       "      <td>33408500</td>\n",
       "    </tr>\n",
       "  </tbody>\n",
       "</table>\n",
       "<p>811 rows × 24 columns</p>\n",
       "</div>"
      ],
      "text/plain": [
       "             Adj Close                                           Close  \\\n",
       "                  AAPL         AMZN       CPNG        TSLA        AAPL   \n",
       "Date                                                                     \n",
       "2018-12-31   38.233894  1501.969971        NaN   66.559998   39.435001   \n",
       "2019-01-02   38.277523  1539.130005        NaN   62.023998   39.480000   \n",
       "2019-01-03   34.464802  1500.280029        NaN   60.071999   35.547501   \n",
       "2019-01-04   35.936081  1575.390015        NaN   63.537998   37.064999   \n",
       "2019-01-07   35.856102  1629.510010        NaN   66.991997   36.982498   \n",
       "...                ...          ...        ...         ...         ...   \n",
       "2022-03-14  150.619995  2837.060059  16.120001  766.369995  150.619995   \n",
       "2022-03-15  155.089996  2947.330078  15.450000  801.890015  155.089996   \n",
       "2022-03-16  159.589996  3062.080078  18.090000  840.229980  159.589996   \n",
       "2022-03-17  160.619995  3144.780029  19.200001  871.599976  160.619995   \n",
       "2022-03-18  163.979996  3225.010010  19.240000  905.390015  163.979996   \n",
       "\n",
       "                                                      High               ...  \\\n",
       "                   AMZN       CPNG        TSLA        AAPL         AMZN  ...   \n",
       "Date                                                                     ...   \n",
       "2018-12-31  1501.969971        NaN   66.559998   39.840000  1520.760010  ...   \n",
       "2019-01-02  1539.130005        NaN   62.023998   39.712502  1553.359985  ...   \n",
       "2019-01-03  1500.280029        NaN   60.071999   36.430000  1538.000000  ...   \n",
       "2019-01-04  1575.390015        NaN   63.537998   37.137501  1594.000000  ...   \n",
       "2019-01-07  1629.510010        NaN   66.991997   37.207500  1634.560059  ...   \n",
       "...                 ...        ...         ...         ...          ...  ...   \n",
       "2022-03-14  2837.060059  16.120001  766.369995  154.119995  2949.000000  ...   \n",
       "2022-03-15  2947.330078  15.450000  801.890015  155.570007  2959.699951  ...   \n",
       "2022-03-16  3062.080078  18.090000  840.229980  160.000000  3063.000000  ...   \n",
       "2022-03-17  3144.780029  19.200001  871.599976  161.000000  3149.969971  ...   \n",
       "2022-03-18  3225.010010  19.240000  905.390015  164.479996  3231.879883  ...   \n",
       "\n",
       "               Low                    Open                          \\\n",
       "              CPNG        TSLA        AAPL         AMZN       CPNG   \n",
       "Date                                                                 \n",
       "2018-12-31     NaN   65.052002   39.632500  1510.800049        NaN   \n",
       "2019-01-02     NaN   59.759998   38.722500  1465.199951        NaN   \n",
       "2019-01-03     NaN   59.476002   35.994999  1520.010010        NaN   \n",
       "2019-01-04     NaN   60.546001   36.132500  1530.000000        NaN   \n",
       "2019-01-07     NaN   63.549999   37.174999  1602.310059        NaN   \n",
       "...            ...         ...         ...          ...        ...   \n",
       "2022-03-14  15.920  756.039978  151.449997  2919.620117  17.040001   \n",
       "2022-03-15  15.275  756.570007  150.899994  2857.000000  16.070000   \n",
       "2022-03-16  15.820  802.260010  157.050003  2970.000000  16.000000   \n",
       "2022-03-17  17.400  825.719971  158.610001  3052.810059  17.680000   \n",
       "2022-03-18  18.490  867.390015  160.509995  3136.260010  18.629999   \n",
       "\n",
       "                           Volume                                 \n",
       "                  TSLA       AAPL     AMZN        CPNG      TSLA  \n",
       "Date                                                              \n",
       "2018-12-31   67.557999  140014000  6954500         NaN  31511500  \n",
       "2019-01-02   61.220001  148158800  7983100         NaN  58293000  \n",
       "2019-01-03   61.400002  365248800  6975600         NaN  34826000  \n",
       "2019-01-04   61.200001  234428400  9182600         NaN  36970500  \n",
       "2019-01-07   64.344002  219111200  7993200         NaN  37756000  \n",
       "...                ...        ...      ...         ...       ...  \n",
       "2022-03-14  780.609985  108732100  3704300  17621600.0  23717400  \n",
       "2022-03-15  775.270020   92964300  3779200  30197600.0  22280400  \n",
       "2022-03-16  809.000000  102300200  4247900  40631500.0  28009600  \n",
       "2022-03-17  830.989990   75615400  3646700  19894800.0  22194300  \n",
       "2022-03-18  874.489990  123351200  5141300  16530900.0  33408500  \n",
       "\n",
       "[811 rows x 24 columns]"
      ]
     },
     "execution_count": 15,
     "metadata": {},
     "output_type": "execute_result"
    }
   ],
   "source": [
    "yf.download([\"AAPL\",\"TSLA\",\"AMZN\",\"CPNG\"],start='2019-01-01')"
   ]
  },
  {
   "cell_type": "code",
   "execution_count": 10,
   "metadata": {},
   "outputs": [
    {
     "name": "stdout",
     "output_type": "stream",
     "text": [
      "[*********************100%***********************]  3 of 3 completed\n"
     ]
    }
   ],
   "source": [
    "data=yf.download([\"AAPL\",\"TSLA\",\"AMZN\"],start='2019-01-01')\n",
    "#지정된 날짜에 상장이 안됬더라면 NAN값 나오게함"
   ]
  },
  {
   "cell_type": "code",
   "execution_count": 11,
   "metadata": {},
   "outputs": [
    {
     "data": {
      "text/html": [
       "<div>\n",
       "<style scoped>\n",
       "    .dataframe tbody tr th:only-of-type {\n",
       "        vertical-align: middle;\n",
       "    }\n",
       "\n",
       "    .dataframe tbody tr th {\n",
       "        vertical-align: top;\n",
       "    }\n",
       "\n",
       "    .dataframe thead th {\n",
       "        text-align: right;\n",
       "    }\n",
       "</style>\n",
       "<table border=\"1\" class=\"dataframe\">\n",
       "  <thead>\n",
       "    <tr style=\"text-align: right;\">\n",
       "      <th></th>\n",
       "      <th>AAPL</th>\n",
       "      <th>AMZN</th>\n",
       "      <th>TSLA</th>\n",
       "    </tr>\n",
       "    <tr>\n",
       "      <th>Date</th>\n",
       "      <th></th>\n",
       "      <th></th>\n",
       "      <th></th>\n",
       "    </tr>\n",
       "  </thead>\n",
       "  <tbody>\n",
       "    <tr>\n",
       "      <th>2018-12-31</th>\n",
       "      <td>39.435001</td>\n",
       "      <td>1501.969971</td>\n",
       "      <td>66.559998</td>\n",
       "    </tr>\n",
       "    <tr>\n",
       "      <th>2019-01-02</th>\n",
       "      <td>39.480000</td>\n",
       "      <td>1539.130005</td>\n",
       "      <td>62.023998</td>\n",
       "    </tr>\n",
       "    <tr>\n",
       "      <th>2019-01-03</th>\n",
       "      <td>35.547501</td>\n",
       "      <td>1500.280029</td>\n",
       "      <td>60.071999</td>\n",
       "    </tr>\n",
       "    <tr>\n",
       "      <th>2019-01-04</th>\n",
       "      <td>37.064999</td>\n",
       "      <td>1575.390015</td>\n",
       "      <td>63.537998</td>\n",
       "    </tr>\n",
       "    <tr>\n",
       "      <th>2019-01-07</th>\n",
       "      <td>36.982498</td>\n",
       "      <td>1629.510010</td>\n",
       "      <td>66.991997</td>\n",
       "    </tr>\n",
       "    <tr>\n",
       "      <th>...</th>\n",
       "      <td>...</td>\n",
       "      <td>...</td>\n",
       "      <td>...</td>\n",
       "    </tr>\n",
       "    <tr>\n",
       "      <th>2022-03-14</th>\n",
       "      <td>150.619995</td>\n",
       "      <td>2837.060059</td>\n",
       "      <td>766.369995</td>\n",
       "    </tr>\n",
       "    <tr>\n",
       "      <th>2022-03-15</th>\n",
       "      <td>155.089996</td>\n",
       "      <td>2947.330078</td>\n",
       "      <td>801.890015</td>\n",
       "    </tr>\n",
       "    <tr>\n",
       "      <th>2022-03-16</th>\n",
       "      <td>159.589996</td>\n",
       "      <td>3062.080078</td>\n",
       "      <td>840.229980</td>\n",
       "    </tr>\n",
       "    <tr>\n",
       "      <th>2022-03-17</th>\n",
       "      <td>160.619995</td>\n",
       "      <td>3144.780029</td>\n",
       "      <td>871.599976</td>\n",
       "    </tr>\n",
       "    <tr>\n",
       "      <th>2022-03-18</th>\n",
       "      <td>163.979996</td>\n",
       "      <td>3225.010010</td>\n",
       "      <td>905.390015</td>\n",
       "    </tr>\n",
       "  </tbody>\n",
       "</table>\n",
       "<p>811 rows × 3 columns</p>\n",
       "</div>"
      ],
      "text/plain": [
       "                  AAPL         AMZN        TSLA\n",
       "Date                                           \n",
       "2018-12-31   39.435001  1501.969971   66.559998\n",
       "2019-01-02   39.480000  1539.130005   62.023998\n",
       "2019-01-03   35.547501  1500.280029   60.071999\n",
       "2019-01-04   37.064999  1575.390015   63.537998\n",
       "2019-01-07   36.982498  1629.510010   66.991997\n",
       "...                ...          ...         ...\n",
       "2022-03-14  150.619995  2837.060059  766.369995\n",
       "2022-03-15  155.089996  2947.330078  801.890015\n",
       "2022-03-16  159.589996  3062.080078  840.229980\n",
       "2022-03-17  160.619995  3144.780029  871.599976\n",
       "2022-03-18  163.979996  3225.010010  905.390015\n",
       "\n",
       "[811 rows x 3 columns]"
      ]
     },
     "execution_count": 11,
     "metadata": {},
     "output_type": "execute_result"
    }
   ],
   "source": [
    "data['Close']"
   ]
  },
  {
   "cell_type": "code",
   "execution_count": 12,
   "metadata": {},
   "outputs": [
    {
     "data": {
      "text/plain": [
       "Date\n",
       "2018-12-31     39.435001\n",
       "2019-01-02     39.480000\n",
       "2019-01-03     35.547501\n",
       "2019-01-04     37.064999\n",
       "2019-01-07     36.982498\n",
       "                 ...    \n",
       "2022-03-14    150.619995\n",
       "2022-03-15    155.089996\n",
       "2022-03-16    159.589996\n",
       "2022-03-17    160.619995\n",
       "2022-03-18    163.979996\n",
       "Name: AAPL, Length: 811, dtype: float64"
      ]
     },
     "execution_count": 12,
     "metadata": {},
     "output_type": "execute_result"
    }
   ],
   "source": [
    "data['Close']['AAPL']"
   ]
  },
  {
   "cell_type": "code",
   "execution_count": 16,
   "metadata": {},
   "outputs": [],
   "source": [
    "AAPL = yf.Ticker(\"AAPL\") #대문자이니깐 클래스라는 것을 알 수 있음 #주가정보 및 애널리스트 구매 주식분할및 배당내역"
   ]
  },
  {
   "cell_type": "code",
   "execution_count": 19,
   "metadata": {},
   "outputs": [
    {
     "data": {
      "text/plain": [
       "Date\n",
       "1987-05-11    0.000536\n",
       "1987-08-10    0.000536\n",
       "1987-11-17    0.000714\n",
       "1988-02-12    0.000714\n",
       "1988-05-16    0.000714\n",
       "                ...   \n",
       "2021-02-05    0.205000\n",
       "2021-05-07    0.220000\n",
       "2021-08-06    0.220000\n",
       "2021-11-05    0.220000\n",
       "2022-02-04    0.220000\n",
       "Name: Dividends, Length: 74, dtype: float64"
      ]
     },
     "execution_count": 19,
     "metadata": {},
     "output_type": "execute_result"
    }
   ],
   "source": [
    "AAPL.dividends #dividends는 배당금을 뜻함"
   ]
  },
  {
   "cell_type": "code",
   "execution_count": 20,
   "metadata": {},
   "outputs": [
    {
     "data": {
      "text/plain": [
       "Date\n",
       "1987-06-16    2.0\n",
       "2000-06-21    2.0\n",
       "2005-02-28    2.0\n",
       "2014-06-09    7.0\n",
       "2020-08-31    4.0\n",
       "Name: Stock Splits, dtype: float64"
      ]
     },
     "execution_count": 20,
     "metadata": {},
     "output_type": "execute_result"
    }
   ],
   "source": [
    "AAPL.splits #splits은 주식분할 #1개에서 몇개로 나뉘었냐는"
   ]
  },
  {
   "cell_type": "code",
   "execution_count": 21,
   "metadata": {},
   "outputs": [
    {
     "data": {
      "text/html": [
       "<div>\n",
       "<style scoped>\n",
       "    .dataframe tbody tr th:only-of-type {\n",
       "        vertical-align: middle;\n",
       "    }\n",
       "\n",
       "    .dataframe tbody tr th {\n",
       "        vertical-align: top;\n",
       "    }\n",
       "\n",
       "    .dataframe thead th {\n",
       "        text-align: right;\n",
       "    }\n",
       "</style>\n",
       "<table border=\"1\" class=\"dataframe\">\n",
       "  <thead>\n",
       "    <tr style=\"text-align: right;\">\n",
       "      <th></th>\n",
       "      <th>Firm</th>\n",
       "      <th>To Grade</th>\n",
       "      <th>From Grade</th>\n",
       "      <th>Action</th>\n",
       "    </tr>\n",
       "    <tr>\n",
       "      <th>Date</th>\n",
       "      <th></th>\n",
       "      <th></th>\n",
       "      <th></th>\n",
       "      <th></th>\n",
       "    </tr>\n",
       "  </thead>\n",
       "  <tbody>\n",
       "    <tr>\n",
       "      <th>2012-02-09 08:17:00</th>\n",
       "      <td>Canaccord Genuity</td>\n",
       "      <td>Buy</td>\n",
       "      <td></td>\n",
       "      <td>main</td>\n",
       "    </tr>\n",
       "    <tr>\n",
       "      <th>2012-03-08 07:33:00</th>\n",
       "      <td>FBN Securities</td>\n",
       "      <td>Outperform</td>\n",
       "      <td></td>\n",
       "      <td>main</td>\n",
       "    </tr>\n",
       "    <tr>\n",
       "      <th>2012-03-13 06:08:00</th>\n",
       "      <td>Jefferies</td>\n",
       "      <td>Buy</td>\n",
       "      <td></td>\n",
       "      <td>main</td>\n",
       "    </tr>\n",
       "    <tr>\n",
       "      <th>2012-03-14 06:13:00</th>\n",
       "      <td>Morgan Stanley</td>\n",
       "      <td>Overweight</td>\n",
       "      <td></td>\n",
       "      <td>main</td>\n",
       "    </tr>\n",
       "    <tr>\n",
       "      <th>2012-03-14 08:21:00</th>\n",
       "      <td>Canaccord Genuity</td>\n",
       "      <td>Buy</td>\n",
       "      <td></td>\n",
       "      <td>main</td>\n",
       "    </tr>\n",
       "    <tr>\n",
       "      <th>...</th>\n",
       "      <td>...</td>\n",
       "      <td>...</td>\n",
       "      <td>...</td>\n",
       "      <td>...</td>\n",
       "    </tr>\n",
       "    <tr>\n",
       "      <th>2022-01-28 14:19:01</th>\n",
       "      <td>New Street Research</td>\n",
       "      <td>Neutral</td>\n",
       "      <td>Sell</td>\n",
       "      <td>up</td>\n",
       "    </tr>\n",
       "    <tr>\n",
       "      <th>2022-01-28 15:10:56</th>\n",
       "      <td>Oppenheimer</td>\n",
       "      <td>Outperform</td>\n",
       "      <td></td>\n",
       "      <td>main</td>\n",
       "    </tr>\n",
       "    <tr>\n",
       "      <th>2022-01-31 15:44:19</th>\n",
       "      <td>Credit Suisse</td>\n",
       "      <td>Neutral</td>\n",
       "      <td></td>\n",
       "      <td>main</td>\n",
       "    </tr>\n",
       "    <tr>\n",
       "      <th>2022-02-15 15:31:58</th>\n",
       "      <td>Tigress Financial</td>\n",
       "      <td>Strong Buy</td>\n",
       "      <td></td>\n",
       "      <td>main</td>\n",
       "    </tr>\n",
       "    <tr>\n",
       "      <th>2022-03-11 11:57:08</th>\n",
       "      <td>Barclays</td>\n",
       "      <td>Equal-Weight</td>\n",
       "      <td></td>\n",
       "      <td>main</td>\n",
       "    </tr>\n",
       "  </tbody>\n",
       "</table>\n",
       "<p>831 rows × 4 columns</p>\n",
       "</div>"
      ],
      "text/plain": [
       "                                    Firm      To Grade From Grade Action\n",
       "Date                                                                    \n",
       "2012-02-09 08:17:00    Canaccord Genuity           Buy              main\n",
       "2012-03-08 07:33:00       FBN Securities    Outperform              main\n",
       "2012-03-13 06:08:00            Jefferies           Buy              main\n",
       "2012-03-14 06:13:00       Morgan Stanley    Overweight              main\n",
       "2012-03-14 08:21:00    Canaccord Genuity           Buy              main\n",
       "...                                  ...           ...        ...    ...\n",
       "2022-01-28 14:19:01  New Street Research       Neutral       Sell     up\n",
       "2022-01-28 15:10:56          Oppenheimer    Outperform              main\n",
       "2022-01-31 15:44:19        Credit Suisse       Neutral              main\n",
       "2022-02-15 15:31:58    Tigress Financial    Strong Buy              main\n",
       "2022-03-11 11:57:08             Barclays  Equal-Weight              main\n",
       "\n",
       "[831 rows x 4 columns]"
      ]
     },
     "execution_count": 21,
     "metadata": {},
     "output_type": "execute_result"
    }
   ],
   "source": [
    "AAPL.recommendations #애널리스트들의 주식평가"
   ]
  },
  {
   "cell_type": "code",
   "execution_count": 22,
   "metadata": {},
   "outputs": [
    {
     "data": {
      "text/plain": [
       "{'zip': '95014',\n",
       " 'sector': 'Technology',\n",
       " 'fullTimeEmployees': 100000,\n",
       " 'longBusinessSummary': 'Apple Inc. designs, manufactures, and markets smartphones, personal computers, tablets, wearables, and accessories worldwide. It also sells various related services. In addition, the company offers iPhone, a line of smartphones; Mac, a line of personal computers; iPad, a line of multi-purpose tablets; AirPods Max, an over-ear wireless headphone; and wearables, home, and accessories comprising AirPods, Apple TV, Apple Watch, Beats products, HomePod, and iPod touch. Further, it provides AppleCare support services; cloud services store services; and operates various platforms, including the App Store that allow customers to discover and download applications and digital content, such as books, music, video, games, and podcasts. Additionally, the company offers various services, such as Apple Arcade, a game subscription service; Apple Music, which offers users a curated listening experience with on-demand radio stations; Apple News+, a subscription news and magazine service; Apple TV+, which offers exclusive original content; Apple Card, a co-branded credit card; and Apple Pay, a cashless payment service, as well as licenses its intellectual property. The company serves consumers, and small and mid-sized businesses; and the education, enterprise, and government markets. It distributes third-party applications for its products through the App Store. The company also sells its products through its retail and online stores, and direct sales force; and third-party cellular network carriers, wholesalers, retailers, and resellers. Apple Inc. was incorporated in 1977 and is headquartered in Cupertino, California.',\n",
       " 'city': 'Cupertino',\n",
       " 'phone': '408 996 1010',\n",
       " 'state': 'CA',\n",
       " 'country': 'United States',\n",
       " 'companyOfficers': [],\n",
       " 'website': 'https://www.apple.com',\n",
       " 'maxAge': 1,\n",
       " 'address1': 'One Apple Park Way',\n",
       " 'industry': 'Consumer Electronics',\n",
       " 'ebitdaMargins': 0.33890998,\n",
       " 'profitMargins': 0.26579002,\n",
       " 'grossMargins': 0.43019,\n",
       " 'operatingCashflow': 112241000448,\n",
       " 'revenueGrowth': 0.112,\n",
       " 'operatingMargins': 0.309,\n",
       " 'ebitda': 128217997312,\n",
       " 'targetLowPrice': 160,\n",
       " 'recommendationKey': 'buy',\n",
       " 'grossProfits': 152836000000,\n",
       " 'freeCashflow': 80153247744,\n",
       " 'targetMedianPrice': 199.5,\n",
       " 'currentPrice': 163.98,\n",
       " 'earningsGrowth': 0.25,\n",
       " 'currentRatio': 1.038,\n",
       " 'returnOnAssets': 0.19875,\n",
       " 'numberOfAnalystOpinions': 44,\n",
       " 'targetMeanPrice': 193.53,\n",
       " 'debtToEquity': 170.714,\n",
       " 'returnOnEquity': 1.45567,\n",
       " 'targetHighPrice': 215,\n",
       " 'totalCash': 63913000960,\n",
       " 'totalDebt': 122797998080,\n",
       " 'totalRevenue': 378323009536,\n",
       " 'totalCashPerShare': 3.916,\n",
       " 'financialCurrency': 'USD',\n",
       " 'revenuePerShare': 22.838,\n",
       " 'quickRatio': 0.875,\n",
       " 'recommendationMean': 1.8,\n",
       " 'exchange': 'NMS',\n",
       " 'shortName': 'Apple Inc.',\n",
       " 'longName': 'Apple Inc.',\n",
       " 'exchangeTimezoneName': 'America/New_York',\n",
       " 'exchangeTimezoneShortName': 'EDT',\n",
       " 'isEsgPopulated': False,\n",
       " 'gmtOffSetMilliseconds': '-14400000',\n",
       " 'quoteType': 'EQUITY',\n",
       " 'symbol': 'AAPL',\n",
       " 'messageBoardId': 'finmb_24937',\n",
       " 'market': 'us_market',\n",
       " 'annualHoldingsTurnover': None,\n",
       " 'enterpriseToRevenue': 7.229,\n",
       " 'beta3Year': None,\n",
       " 'enterpriseToEbitda': 21.33,\n",
       " '52WeekChange': 0.32895696,\n",
       " 'morningStarRiskRating': None,\n",
       " 'forwardEps': 6.56,\n",
       " 'revenueQuarterlyGrowth': None,\n",
       " 'sharesOutstanding': 16319399936,\n",
       " 'fundInceptionDate': None,\n",
       " 'annualReportExpenseRatio': None,\n",
       " 'totalAssets': None,\n",
       " 'bookValue': 4.402,\n",
       " 'sharesShort': 110322490,\n",
       " 'sharesPercentSharesOut': 0.0068,\n",
       " 'fundFamily': None,\n",
       " 'lastFiscalYearEnd': 1632528000,\n",
       " 'heldPercentInstitutions': 0.59438,\n",
       " 'netIncomeToCommon': 100554997760,\n",
       " 'trailingEps': 6.015,\n",
       " 'lastDividendValue': 0.22,\n",
       " 'SandP52WeekChange': 0.13260198,\n",
       " 'priceToBook': 37.251247,\n",
       " 'heldPercentInsiders': 0.0007,\n",
       " 'nextFiscalYearEnd': 1695600000,\n",
       " 'yield': None,\n",
       " 'mostRecentQuarter': 1640390400,\n",
       " 'shortRatio': 1.2,\n",
       " 'sharesShortPreviousMonthDate': 1643587200,\n",
       " 'floatShares': 16302795170,\n",
       " 'beta': 1.185531,\n",
       " 'enterpriseValue': 2734947041280,\n",
       " 'priceHint': 2,\n",
       " 'threeYearAverageReturn': None,\n",
       " 'lastSplitDate': 1598832000,\n",
       " 'lastSplitFactor': '4:1',\n",
       " 'legalType': None,\n",
       " 'lastDividendDate': 1643932800,\n",
       " 'morningStarOverallRating': None,\n",
       " 'earningsQuarterlyGrowth': 0.204,\n",
       " 'priceToSalesTrailing12Months': 7.0734663,\n",
       " 'dateShortInterest': 1646006400,\n",
       " 'pegRatio': 1.76,\n",
       " 'ytdReturn': None,\n",
       " 'forwardPE': 24.99695,\n",
       " 'lastCapGain': None,\n",
       " 'shortPercentOfFloat': 0.0068,\n",
       " 'sharesShortPriorMonth': 91388112,\n",
       " 'impliedSharesOutstanding': 0,\n",
       " 'category': None,\n",
       " 'fiveYearAverageReturn': None,\n",
       " 'previousClose': 160.62,\n",
       " 'regularMarketOpen': 160.51,\n",
       " 'twoHundredDayAverage': 154.44424,\n",
       " 'trailingAnnualDividendYield': 0.005385382,\n",
       " 'payoutRatio': 0.1434,\n",
       " 'volume24Hr': None,\n",
       " 'regularMarketDayHigh': 164.48,\n",
       " 'navPrice': None,\n",
       " 'averageDailyVolume10Day': 102416350,\n",
       " 'regularMarketPreviousClose': 160.62,\n",
       " 'fiftyDayAverage': 166.5874,\n",
       " 'trailingAnnualDividendRate': 0.865,\n",
       " 'open': 160.51,\n",
       " 'toCurrency': None,\n",
       " 'averageVolume10days': 102416350,\n",
       " 'expireDate': None,\n",
       " 'algorithm': None,\n",
       " 'dividendRate': 0.88,\n",
       " 'exDividendDate': 1643932800,\n",
       " 'circulatingSupply': None,\n",
       " 'startDate': None,\n",
       " 'regularMarketDayLow': 159.76,\n",
       " 'currency': 'USD',\n",
       " 'trailingPE': 27.261845,\n",
       " 'regularMarketVolume': 123511692,\n",
       " 'lastMarket': None,\n",
       " 'maxSupply': None,\n",
       " 'openInterest': None,\n",
       " 'marketCap': 2676055080960,\n",
       " 'volumeAllCurrencies': None,\n",
       " 'strikePrice': None,\n",
       " 'averageVolume': 93071551,\n",
       " 'dayLow': 159.76,\n",
       " 'ask': 164.34,\n",
       " 'askSize': 1400,\n",
       " 'volume': 123511692,\n",
       " 'fiftyTwoWeekHigh': 182.94,\n",
       " 'fromCurrency': None,\n",
       " 'fiveYearAvgDividendYield': 1.13,\n",
       " 'fiftyTwoWeekLow': 118.86,\n",
       " 'bid': 164.28,\n",
       " 'tradeable': False,\n",
       " 'dividendYield': 0.0054,\n",
       " 'bidSize': 900,\n",
       " 'dayHigh': 164.48,\n",
       " 'regularMarketPrice': 163.98,\n",
       " 'preMarketPrice': None,\n",
       " 'logo_url': 'https://logo.clearbit.com/apple.com',\n",
       " 'trailingPegRatio': 3.0052}"
      ]
     },
     "execution_count": 22,
     "metadata": {},
     "output_type": "execute_result"
    }
   ],
   "source": [
    "AAPL.info #회사에 대한 정보들을 확인할 수 있음"
   ]
  },
  {
   "cell_type": "code",
   "execution_count": 23,
   "metadata": {},
   "outputs": [
    {
     "data": {
      "text/html": [
       "<div>\n",
       "<style scoped>\n",
       "    .dataframe tbody tr th:only-of-type {\n",
       "        vertical-align: middle;\n",
       "    }\n",
       "\n",
       "    .dataframe tbody tr th {\n",
       "        vertical-align: top;\n",
       "    }\n",
       "\n",
       "    .dataframe thead th {\n",
       "        text-align: right;\n",
       "    }\n",
       "</style>\n",
       "<table border=\"1\" class=\"dataframe\">\n",
       "  <thead>\n",
       "    <tr style=\"text-align: right;\">\n",
       "      <th></th>\n",
       "      <th>Open</th>\n",
       "      <th>High</th>\n",
       "      <th>Low</th>\n",
       "      <th>Close</th>\n",
       "      <th>Volume</th>\n",
       "      <th>Dividends</th>\n",
       "      <th>Stock Splits</th>\n",
       "    </tr>\n",
       "    <tr>\n",
       "      <th>Date</th>\n",
       "      <th></th>\n",
       "      <th></th>\n",
       "      <th></th>\n",
       "      <th></th>\n",
       "      <th></th>\n",
       "      <th></th>\n",
       "      <th></th>\n",
       "    </tr>\n",
       "  </thead>\n",
       "  <tbody>\n",
       "    <tr>\n",
       "      <th>1980-12-12</th>\n",
       "      <td>0.100323</td>\n",
       "      <td>0.100759</td>\n",
       "      <td>0.100323</td>\n",
       "      <td>0.100323</td>\n",
       "      <td>469033600</td>\n",
       "      <td>0.0</td>\n",
       "      <td>0.0</td>\n",
       "    </tr>\n",
       "    <tr>\n",
       "      <th>1980-12-15</th>\n",
       "      <td>0.095525</td>\n",
       "      <td>0.095525</td>\n",
       "      <td>0.095089</td>\n",
       "      <td>0.095089</td>\n",
       "      <td>175884800</td>\n",
       "      <td>0.0</td>\n",
       "      <td>0.0</td>\n",
       "    </tr>\n",
       "    <tr>\n",
       "      <th>1980-12-16</th>\n",
       "      <td>0.088546</td>\n",
       "      <td>0.088546</td>\n",
       "      <td>0.088110</td>\n",
       "      <td>0.088110</td>\n",
       "      <td>105728000</td>\n",
       "      <td>0.0</td>\n",
       "      <td>0.0</td>\n",
       "    </tr>\n",
       "    <tr>\n",
       "      <th>1980-12-17</th>\n",
       "      <td>0.090291</td>\n",
       "      <td>0.090727</td>\n",
       "      <td>0.090291</td>\n",
       "      <td>0.090291</td>\n",
       "      <td>86441600</td>\n",
       "      <td>0.0</td>\n",
       "      <td>0.0</td>\n",
       "    </tr>\n",
       "    <tr>\n",
       "      <th>1980-12-18</th>\n",
       "      <td>0.092908</td>\n",
       "      <td>0.093345</td>\n",
       "      <td>0.092908</td>\n",
       "      <td>0.092908</td>\n",
       "      <td>73449600</td>\n",
       "      <td>0.0</td>\n",
       "      <td>0.0</td>\n",
       "    </tr>\n",
       "    <tr>\n",
       "      <th>...</th>\n",
       "      <td>...</td>\n",
       "      <td>...</td>\n",
       "      <td>...</td>\n",
       "      <td>...</td>\n",
       "      <td>...</td>\n",
       "      <td>...</td>\n",
       "      <td>...</td>\n",
       "    </tr>\n",
       "    <tr>\n",
       "      <th>2022-03-14</th>\n",
       "      <td>151.449997</td>\n",
       "      <td>154.119995</td>\n",
       "      <td>150.100006</td>\n",
       "      <td>150.619995</td>\n",
       "      <td>108732100</td>\n",
       "      <td>0.0</td>\n",
       "      <td>0.0</td>\n",
       "    </tr>\n",
       "    <tr>\n",
       "      <th>2022-03-15</th>\n",
       "      <td>150.899994</td>\n",
       "      <td>155.570007</td>\n",
       "      <td>150.380005</td>\n",
       "      <td>155.089996</td>\n",
       "      <td>92964300</td>\n",
       "      <td>0.0</td>\n",
       "      <td>0.0</td>\n",
       "    </tr>\n",
       "    <tr>\n",
       "      <th>2022-03-16</th>\n",
       "      <td>157.050003</td>\n",
       "      <td>160.000000</td>\n",
       "      <td>154.460007</td>\n",
       "      <td>159.589996</td>\n",
       "      <td>102300200</td>\n",
       "      <td>0.0</td>\n",
       "      <td>0.0</td>\n",
       "    </tr>\n",
       "    <tr>\n",
       "      <th>2022-03-17</th>\n",
       "      <td>158.610001</td>\n",
       "      <td>161.000000</td>\n",
       "      <td>157.630005</td>\n",
       "      <td>160.619995</td>\n",
       "      <td>75615400</td>\n",
       "      <td>0.0</td>\n",
       "      <td>0.0</td>\n",
       "    </tr>\n",
       "    <tr>\n",
       "      <th>2022-03-18</th>\n",
       "      <td>160.509995</td>\n",
       "      <td>164.479996</td>\n",
       "      <td>159.759995</td>\n",
       "      <td>163.979996</td>\n",
       "      <td>123351200</td>\n",
       "      <td>0.0</td>\n",
       "      <td>0.0</td>\n",
       "    </tr>\n",
       "  </tbody>\n",
       "</table>\n",
       "<p>10405 rows × 7 columns</p>\n",
       "</div>"
      ],
      "text/plain": [
       "                  Open        High         Low       Close     Volume  \\\n",
       "Date                                                                    \n",
       "1980-12-12    0.100323    0.100759    0.100323    0.100323  469033600   \n",
       "1980-12-15    0.095525    0.095525    0.095089    0.095089  175884800   \n",
       "1980-12-16    0.088546    0.088546    0.088110    0.088110  105728000   \n",
       "1980-12-17    0.090291    0.090727    0.090291    0.090291   86441600   \n",
       "1980-12-18    0.092908    0.093345    0.092908    0.092908   73449600   \n",
       "...                ...         ...         ...         ...        ...   \n",
       "2022-03-14  151.449997  154.119995  150.100006  150.619995  108732100   \n",
       "2022-03-15  150.899994  155.570007  150.380005  155.089996   92964300   \n",
       "2022-03-16  157.050003  160.000000  154.460007  159.589996  102300200   \n",
       "2022-03-17  158.610001  161.000000  157.630005  160.619995   75615400   \n",
       "2022-03-18  160.509995  164.479996  159.759995  163.979996  123351200   \n",
       "\n",
       "            Dividends  Stock Splits  \n",
       "Date                                 \n",
       "1980-12-12        0.0           0.0  \n",
       "1980-12-15        0.0           0.0  \n",
       "1980-12-16        0.0           0.0  \n",
       "1980-12-17        0.0           0.0  \n",
       "1980-12-18        0.0           0.0  \n",
       "...               ...           ...  \n",
       "2022-03-14        0.0           0.0  \n",
       "2022-03-15        0.0           0.0  \n",
       "2022-03-16        0.0           0.0  \n",
       "2022-03-17        0.0           0.0  \n",
       "2022-03-18        0.0           0.0  \n",
       "\n",
       "[10405 rows x 7 columns]"
      ]
     },
     "execution_count": 23,
     "metadata": {},
     "output_type": "execute_result"
    }
   ],
   "source": [
    "AAPL.history(period='max') #80년부터 전체 히스토리 내역들이 나옴"
   ]
  },
  {
   "cell_type": "code",
   "execution_count": 32,
   "metadata": {},
   "outputs": [],
   "source": [
    "CPNG=yf.Ticker(\"CPNG\")"
   ]
  },
  {
   "cell_type": "code",
   "execution_count": 43,
   "metadata": {},
   "outputs": [
    {
     "data": {
      "text/html": [
       "<div>\n",
       "<style scoped>\n",
       "    .dataframe tbody tr th:only-of-type {\n",
       "        vertical-align: middle;\n",
       "    }\n",
       "\n",
       "    .dataframe tbody tr th {\n",
       "        vertical-align: top;\n",
       "    }\n",
       "\n",
       "    .dataframe thead th {\n",
       "        text-align: right;\n",
       "    }\n",
       "</style>\n",
       "<table border=\"1\" class=\"dataframe\">\n",
       "  <thead>\n",
       "    <tr style=\"text-align: right;\">\n",
       "      <th></th>\n",
       "      <th>0</th>\n",
       "    </tr>\n",
       "  </thead>\n",
       "  <tbody>\n",
       "    <tr>\n",
       "      <th>zip</th>\n",
       "      <td>05510</td>\n",
       "    </tr>\n",
       "    <tr>\n",
       "      <th>sector</th>\n",
       "      <td>Consumer Cyclical</td>\n",
       "    </tr>\n",
       "    <tr>\n",
       "      <th>fullTimeEmployees</th>\n",
       "      <td>68000</td>\n",
       "    </tr>\n",
       "    <tr>\n",
       "      <th>longBusinessSummary</th>\n",
       "      <td>Coupang, Inc. owns and operates in e-commerce ...</td>\n",
       "    </tr>\n",
       "    <tr>\n",
       "      <th>city</th>\n",
       "      <td>Seoul</td>\n",
       "    </tr>\n",
       "    <tr>\n",
       "      <th>...</th>\n",
       "      <td>...</td>\n",
       "    </tr>\n",
       "    <tr>\n",
       "      <th>bidSize</th>\n",
       "      <td>1000</td>\n",
       "    </tr>\n",
       "    <tr>\n",
       "      <th>dayHigh</th>\n",
       "      <td>19.92</td>\n",
       "    </tr>\n",
       "    <tr>\n",
       "      <th>regularMarketPrice</th>\n",
       "      <td>19.24</td>\n",
       "    </tr>\n",
       "    <tr>\n",
       "      <th>preMarketPrice</th>\n",
       "      <td>None</td>\n",
       "    </tr>\n",
       "    <tr>\n",
       "      <th>logo_url</th>\n",
       "      <td>https://logo.clearbit.com/coupang.com</td>\n",
       "    </tr>\n",
       "  </tbody>\n",
       "</table>\n",
       "<p>151 rows × 1 columns</p>\n",
       "</div>"
      ],
      "text/plain": [
       "                                                                     0\n",
       "zip                                                              05510\n",
       "sector                                               Consumer Cyclical\n",
       "fullTimeEmployees                                                68000\n",
       "longBusinessSummary  Coupang, Inc. owns and operates in e-commerce ...\n",
       "city                                                             Seoul\n",
       "...                                                                ...\n",
       "bidSize                                                           1000\n",
       "dayHigh                                                          19.92\n",
       "regularMarketPrice                                               19.24\n",
       "preMarketPrice                                                    None\n",
       "logo_url                         https://logo.clearbit.com/coupang.com\n",
       "\n",
       "[151 rows x 1 columns]"
      ]
     },
     "execution_count": 43,
     "metadata": {},
     "output_type": "execute_result"
    }
   ],
   "source": [
    "CPNG.info\n",
    "#pd.DataFrame(CPNG.info) \n",
    "a=pd.Series(CPNG.info)\n",
    "pd.DataFrame(a)#시리즈로 바꾼 다음에 데이터프레임으로 들어가면  나오지만 데이터프레임으로 바로는 안 나옴"
   ]
  },
  {
   "cell_type": "code",
   "execution_count": 35,
   "metadata": {},
   "outputs": [
    {
     "data": {
      "text/html": [
       "<div>\n",
       "<style scoped>\n",
       "    .dataframe tbody tr th:only-of-type {\n",
       "        vertical-align: middle;\n",
       "    }\n",
       "\n",
       "    .dataframe tbody tr th {\n",
       "        vertical-align: top;\n",
       "    }\n",
       "\n",
       "    .dataframe thead th {\n",
       "        text-align: right;\n",
       "    }\n",
       "</style>\n",
       "<table border=\"1\" class=\"dataframe\">\n",
       "  <thead>\n",
       "    <tr style=\"text-align: right;\">\n",
       "      <th></th>\n",
       "      <th>Firm</th>\n",
       "      <th>To Grade</th>\n",
       "      <th>From Grade</th>\n",
       "      <th>Action</th>\n",
       "    </tr>\n",
       "    <tr>\n",
       "      <th>Date</th>\n",
       "      <th></th>\n",
       "      <th></th>\n",
       "      <th></th>\n",
       "      <th></th>\n",
       "    </tr>\n",
       "  </thead>\n",
       "  <tbody>\n",
       "    <tr>\n",
       "      <th>2021-04-05 10:32:55</th>\n",
       "      <td>Mizuho</td>\n",
       "      <td>Neutral</td>\n",
       "      <td></td>\n",
       "      <td>init</td>\n",
       "    </tr>\n",
       "    <tr>\n",
       "      <th>2021-04-05 10:39:16</th>\n",
       "      <td>Goldman Sachs</td>\n",
       "      <td>Buy</td>\n",
       "      <td></td>\n",
       "      <td>init</td>\n",
       "    </tr>\n",
       "    <tr>\n",
       "      <th>2021-04-05 11:20:04</th>\n",
       "      <td>Deutsche Bank</td>\n",
       "      <td>Hold</td>\n",
       "      <td></td>\n",
       "      <td>init</td>\n",
       "    </tr>\n",
       "    <tr>\n",
       "      <th>2021-04-06 12:18:51</th>\n",
       "      <td>JP Morgan</td>\n",
       "      <td>Neutral</td>\n",
       "      <td></td>\n",
       "      <td>init</td>\n",
       "    </tr>\n",
       "    <tr>\n",
       "      <th>2021-04-06 13:58:29</th>\n",
       "      <td>Credit Suisse</td>\n",
       "      <td>Neutral</td>\n",
       "      <td></td>\n",
       "      <td>init</td>\n",
       "    </tr>\n",
       "    <tr>\n",
       "      <th>2021-04-07 16:10:17</th>\n",
       "      <td>JP Morgan</td>\n",
       "      <td>Neutral</td>\n",
       "      <td></td>\n",
       "      <td>init</td>\n",
       "    </tr>\n",
       "    <tr>\n",
       "      <th>2021-05-13 10:40:01</th>\n",
       "      <td>Deutsche Bank</td>\n",
       "      <td>Buy</td>\n",
       "      <td>Hold</td>\n",
       "      <td>up</td>\n",
       "    </tr>\n",
       "    <tr>\n",
       "      <th>2021-07-09 10:25:20</th>\n",
       "      <td>CLSA</td>\n",
       "      <td>Outperform</td>\n",
       "      <td></td>\n",
       "      <td>init</td>\n",
       "    </tr>\n",
       "    <tr>\n",
       "      <th>2021-07-14 14:06:01</th>\n",
       "      <td>Deutsche Bank</td>\n",
       "      <td>Hold</td>\n",
       "      <td>Buy</td>\n",
       "      <td>down</td>\n",
       "    </tr>\n",
       "    <tr>\n",
       "      <th>2021-08-12 10:11:06</th>\n",
       "      <td>Deutsche Bank</td>\n",
       "      <td>Buy</td>\n",
       "      <td>Hold</td>\n",
       "      <td>up</td>\n",
       "    </tr>\n",
       "    <tr>\n",
       "      <th>2021-08-26 11:41:10</th>\n",
       "      <td>Daiwa Capital</td>\n",
       "      <td>Buy</td>\n",
       "      <td>Outperform</td>\n",
       "      <td>up</td>\n",
       "    </tr>\n",
       "    <tr>\n",
       "      <th>2022-03-03 14:29:11</th>\n",
       "      <td>Mizuho</td>\n",
       "      <td>Neutral</td>\n",
       "      <td></td>\n",
       "      <td>main</td>\n",
       "    </tr>\n",
       "    <tr>\n",
       "      <th>2022-03-09 15:26:08</th>\n",
       "      <td>UBS</td>\n",
       "      <td>Buy</td>\n",
       "      <td>Neutral</td>\n",
       "      <td>up</td>\n",
       "    </tr>\n",
       "  </tbody>\n",
       "</table>\n",
       "</div>"
      ],
      "text/plain": [
       "                              Firm    To Grade  From Grade Action\n",
       "Date                                                             \n",
       "2021-04-05 10:32:55         Mizuho     Neutral               init\n",
       "2021-04-05 10:39:16  Goldman Sachs         Buy               init\n",
       "2021-04-05 11:20:04  Deutsche Bank        Hold               init\n",
       "2021-04-06 12:18:51      JP Morgan     Neutral               init\n",
       "2021-04-06 13:58:29  Credit Suisse     Neutral               init\n",
       "2021-04-07 16:10:17      JP Morgan     Neutral               init\n",
       "2021-05-13 10:40:01  Deutsche Bank         Buy        Hold     up\n",
       "2021-07-09 10:25:20           CLSA  Outperform               init\n",
       "2021-07-14 14:06:01  Deutsche Bank        Hold         Buy   down\n",
       "2021-08-12 10:11:06  Deutsche Bank         Buy        Hold     up\n",
       "2021-08-26 11:41:10  Daiwa Capital         Buy  Outperform     up\n",
       "2022-03-03 14:29:11         Mizuho     Neutral               main\n",
       "2022-03-09 15:26:08            UBS         Buy     Neutral     up"
      ]
     },
     "execution_count": 35,
     "metadata": {},
     "output_type": "execute_result"
    }
   ],
   "source": [
    "CPNG.recommendations"
   ]
  },
  {
   "cell_type": "code",
   "execution_count": 36,
   "metadata": {},
   "outputs": [
    {
     "data": {
      "text/plain": [
       "Series([], Name: Dividends, dtype: int64)"
      ]
     },
     "execution_count": 36,
     "metadata": {},
     "output_type": "execute_result"
    }
   ],
   "source": [
    "CPNG.dividends"
   ]
  },
  {
   "cell_type": "code",
   "execution_count": 38,
   "metadata": {},
   "outputs": [
    {
     "data": {
      "text/html": [
       "<div>\n",
       "<style scoped>\n",
       "    .dataframe tbody tr th:only-of-type {\n",
       "        vertical-align: middle;\n",
       "    }\n",
       "\n",
       "    .dataframe tbody tr th {\n",
       "        vertical-align: top;\n",
       "    }\n",
       "\n",
       "    .dataframe thead th {\n",
       "        text-align: right;\n",
       "    }\n",
       "</style>\n",
       "<table border=\"1\" class=\"dataframe\">\n",
       "  <thead>\n",
       "    <tr style=\"text-align: right;\">\n",
       "      <th></th>\n",
       "      <th>Open</th>\n",
       "      <th>High</th>\n",
       "      <th>Low</th>\n",
       "      <th>Close</th>\n",
       "      <th>Volume</th>\n",
       "      <th>Dividends</th>\n",
       "      <th>Stock Splits</th>\n",
       "    </tr>\n",
       "    <tr>\n",
       "      <th>Date</th>\n",
       "      <th></th>\n",
       "      <th></th>\n",
       "      <th></th>\n",
       "      <th></th>\n",
       "      <th></th>\n",
       "      <th></th>\n",
       "      <th></th>\n",
       "    </tr>\n",
       "  </thead>\n",
       "  <tbody>\n",
       "    <tr>\n",
       "      <th>2021-03-11</th>\n",
       "      <td>63.500000</td>\n",
       "      <td>69.000000</td>\n",
       "      <td>49.250000</td>\n",
       "      <td>49.250000</td>\n",
       "      <td>91584100</td>\n",
       "      <td>0</td>\n",
       "      <td>0</td>\n",
       "    </tr>\n",
       "    <tr>\n",
       "      <th>2021-03-12</th>\n",
       "      <td>52.540001</td>\n",
       "      <td>52.759998</td>\n",
       "      <td>46.250000</td>\n",
       "      <td>48.470001</td>\n",
       "      <td>30521000</td>\n",
       "      <td>0</td>\n",
       "      <td>0</td>\n",
       "    </tr>\n",
       "    <tr>\n",
       "      <th>2021-03-15</th>\n",
       "      <td>50.130001</td>\n",
       "      <td>51.849998</td>\n",
       "      <td>49.020000</td>\n",
       "      <td>50.450001</td>\n",
       "      <td>17387800</td>\n",
       "      <td>0</td>\n",
       "      <td>0</td>\n",
       "    </tr>\n",
       "    <tr>\n",
       "      <th>2021-03-16</th>\n",
       "      <td>50.590000</td>\n",
       "      <td>50.770000</td>\n",
       "      <td>46.700001</td>\n",
       "      <td>47.130001</td>\n",
       "      <td>14552400</td>\n",
       "      <td>0</td>\n",
       "      <td>0</td>\n",
       "    </tr>\n",
       "    <tr>\n",
       "      <th>2021-03-17</th>\n",
       "      <td>46.000000</td>\n",
       "      <td>46.900002</td>\n",
       "      <td>43.189999</td>\n",
       "      <td>43.290001</td>\n",
       "      <td>15251100</td>\n",
       "      <td>0</td>\n",
       "      <td>0</td>\n",
       "    </tr>\n",
       "    <tr>\n",
       "      <th>...</th>\n",
       "      <td>...</td>\n",
       "      <td>...</td>\n",
       "      <td>...</td>\n",
       "      <td>...</td>\n",
       "      <td>...</td>\n",
       "      <td>...</td>\n",
       "      <td>...</td>\n",
       "    </tr>\n",
       "    <tr>\n",
       "      <th>2022-03-14</th>\n",
       "      <td>17.040001</td>\n",
       "      <td>17.488001</td>\n",
       "      <td>15.920000</td>\n",
       "      <td>16.120001</td>\n",
       "      <td>17621600</td>\n",
       "      <td>0</td>\n",
       "      <td>0</td>\n",
       "    </tr>\n",
       "    <tr>\n",
       "      <th>2022-03-15</th>\n",
       "      <td>16.070000</td>\n",
       "      <td>16.959999</td>\n",
       "      <td>15.275000</td>\n",
       "      <td>15.450000</td>\n",
       "      <td>30197600</td>\n",
       "      <td>0</td>\n",
       "      <td>0</td>\n",
       "    </tr>\n",
       "    <tr>\n",
       "      <th>2022-03-16</th>\n",
       "      <td>16.000000</td>\n",
       "      <td>18.120001</td>\n",
       "      <td>15.820000</td>\n",
       "      <td>18.090000</td>\n",
       "      <td>40631500</td>\n",
       "      <td>0</td>\n",
       "      <td>0</td>\n",
       "    </tr>\n",
       "    <tr>\n",
       "      <th>2022-03-17</th>\n",
       "      <td>17.680000</td>\n",
       "      <td>19.245001</td>\n",
       "      <td>17.400000</td>\n",
       "      <td>19.200001</td>\n",
       "      <td>19894800</td>\n",
       "      <td>0</td>\n",
       "      <td>0</td>\n",
       "    </tr>\n",
       "    <tr>\n",
       "      <th>2022-03-18</th>\n",
       "      <td>18.629999</td>\n",
       "      <td>19.920000</td>\n",
       "      <td>18.490000</td>\n",
       "      <td>19.240000</td>\n",
       "      <td>16530900</td>\n",
       "      <td>0</td>\n",
       "      <td>0</td>\n",
       "    </tr>\n",
       "  </tbody>\n",
       "</table>\n",
       "<p>259 rows × 7 columns</p>\n",
       "</div>"
      ],
      "text/plain": [
       "                 Open       High        Low      Close    Volume  Dividends  \\\n",
       "Date                                                                          \n",
       "2021-03-11  63.500000  69.000000  49.250000  49.250000  91584100          0   \n",
       "2021-03-12  52.540001  52.759998  46.250000  48.470001  30521000          0   \n",
       "2021-03-15  50.130001  51.849998  49.020000  50.450001  17387800          0   \n",
       "2021-03-16  50.590000  50.770000  46.700001  47.130001  14552400          0   \n",
       "2021-03-17  46.000000  46.900002  43.189999  43.290001  15251100          0   \n",
       "...               ...        ...        ...        ...       ...        ...   \n",
       "2022-03-14  17.040001  17.488001  15.920000  16.120001  17621600          0   \n",
       "2022-03-15  16.070000  16.959999  15.275000  15.450000  30197600          0   \n",
       "2022-03-16  16.000000  18.120001  15.820000  18.090000  40631500          0   \n",
       "2022-03-17  17.680000  19.245001  17.400000  19.200001  19894800          0   \n",
       "2022-03-18  18.629999  19.920000  18.490000  19.240000  16530900          0   \n",
       "\n",
       "            Stock Splits  \n",
       "Date                      \n",
       "2021-03-11             0  \n",
       "2021-03-12             0  \n",
       "2021-03-15             0  \n",
       "2021-03-16             0  \n",
       "2021-03-17             0  \n",
       "...                  ...  \n",
       "2022-03-14             0  \n",
       "2022-03-15             0  \n",
       "2022-03-16             0  \n",
       "2022-03-17             0  \n",
       "2022-03-18             0  \n",
       "\n",
       "[259 rows x 7 columns]"
      ]
     },
     "execution_count": 38,
     "metadata": {},
     "output_type": "execute_result"
    }
   ],
   "source": [
    "CPNG.history(period='max') #start2022-01-01하면 1월1일 데이터부터 나옴"
   ]
  },
  {
   "cell_type": "code",
   "execution_count": 44,
   "metadata": {},
   "outputs": [],
   "source": [
    "import pyupbit as upbit"
   ]
  },
  {
   "cell_type": "code",
   "execution_count": 45,
   "metadata": {},
   "outputs": [
    {
     "data": {
      "text/plain": [
       "['KRW-BTC',\n",
       " 'KRW-ETH',\n",
       " 'KRW-NEO',\n",
       " 'KRW-MTL',\n",
       " 'KRW-LTC',\n",
       " 'KRW-XRP',\n",
       " 'KRW-ETC',\n",
       " 'KRW-OMG',\n",
       " 'KRW-SNT',\n",
       " 'KRW-WAVES',\n",
       " 'KRW-XEM',\n",
       " 'KRW-QTUM',\n",
       " 'KRW-LSK',\n",
       " 'KRW-STEEM',\n",
       " 'KRW-XLM',\n",
       " 'KRW-ARDR',\n",
       " 'KRW-ARK',\n",
       " 'KRW-STORJ',\n",
       " 'KRW-GRS',\n",
       " 'KRW-REP',\n",
       " 'KRW-ADA',\n",
       " 'KRW-SBD',\n",
       " 'KRW-POWR',\n",
       " 'KRW-BTG',\n",
       " 'KRW-ICX',\n",
       " 'KRW-EOS',\n",
       " 'KRW-TRX',\n",
       " 'KRW-SC',\n",
       " 'KRW-ONT',\n",
       " 'KRW-ZIL',\n",
       " 'KRW-POLY',\n",
       " 'KRW-ZRX',\n",
       " 'KRW-LOOM',\n",
       " 'KRW-BCH',\n",
       " 'KRW-BAT',\n",
       " 'KRW-IOST',\n",
       " 'KRW-RFR',\n",
       " 'KRW-CVC',\n",
       " 'KRW-IQ',\n",
       " 'KRW-IOTA',\n",
       " 'KRW-MFT',\n",
       " 'KRW-ONG',\n",
       " 'KRW-GAS',\n",
       " 'KRW-UPP',\n",
       " 'KRW-ELF',\n",
       " 'KRW-KNC',\n",
       " 'KRW-BSV',\n",
       " 'KRW-THETA',\n",
       " 'KRW-QKC',\n",
       " 'KRW-BTT',\n",
       " 'KRW-MOC',\n",
       " 'KRW-ENJ',\n",
       " 'KRW-TFUEL',\n",
       " 'KRW-MANA',\n",
       " 'KRW-ANKR',\n",
       " 'KRW-AERGO',\n",
       " 'KRW-ATOM',\n",
       " 'KRW-TT',\n",
       " 'KRW-CRE',\n",
       " 'KRW-MBL',\n",
       " 'KRW-WAXP',\n",
       " 'KRW-HBAR',\n",
       " 'KRW-MED',\n",
       " 'KRW-MLK',\n",
       " 'KRW-STPT',\n",
       " 'KRW-ORBS',\n",
       " 'KRW-VET',\n",
       " 'KRW-CHZ',\n",
       " 'KRW-STMX',\n",
       " 'KRW-DKA',\n",
       " 'KRW-HIVE',\n",
       " 'KRW-KAVA',\n",
       " 'KRW-AHT',\n",
       " 'KRW-LINK',\n",
       " 'KRW-XTZ',\n",
       " 'KRW-BORA',\n",
       " 'KRW-JST',\n",
       " 'KRW-CRO',\n",
       " 'KRW-TON',\n",
       " 'KRW-SXP',\n",
       " 'KRW-HUNT',\n",
       " 'KRW-PLA',\n",
       " 'KRW-DOT',\n",
       " 'KRW-SRM',\n",
       " 'KRW-MVL',\n",
       " 'KRW-STRAX',\n",
       " 'KRW-AQT',\n",
       " 'KRW-GLM',\n",
       " 'KRW-SSX',\n",
       " 'KRW-META',\n",
       " 'KRW-FCT2',\n",
       " 'KRW-CBK',\n",
       " 'KRW-SAND',\n",
       " 'KRW-HUM',\n",
       " 'KRW-DOGE',\n",
       " 'KRW-STRK',\n",
       " 'KRW-PUNDIX',\n",
       " 'KRW-FLOW',\n",
       " 'KRW-DAWN',\n",
       " 'KRW-AXS',\n",
       " 'KRW-STX',\n",
       " 'KRW-XEC',\n",
       " 'KRW-SOL',\n",
       " 'KRW-MATIC',\n",
       " 'KRW-NU',\n",
       " 'KRW-AAVE',\n",
       " 'KRW-1INCH',\n",
       " 'KRW-ALGO',\n",
       " 'KRW-NEAR',\n",
       " 'KRW-WEMIX',\n",
       " 'KRW-AVAX',\n",
       " 'KRW-T',\n",
       " 'KRW-CELO']"
      ]
     },
     "execution_count": 45,
     "metadata": {},
     "output_type": "execute_result"
    }
   ],
   "source": [
    "upbit.get_tickers(fiat='KRW') #KRW원화"
   ]
  },
  {
   "cell_type": "code",
   "execution_count": 72,
   "metadata": {},
   "outputs": [
    {
     "data": {
      "text/plain": [
       "{'KRW-BTC': 50030000.0, 'KRW-ETH': 3482000.0}"
      ]
     },
     "execution_count": 72,
     "metadata": {},
     "output_type": "execute_result"
    }
   ],
   "source": [
    "upbit.get_current_price([\"KRW-BTC\",\"KRW-ETH\"])#코인의 현재가격을 불러옴"
   ]
  },
  {
   "cell_type": "code",
   "execution_count": 79,
   "metadata": {},
   "outputs": [
    {
     "data": {
      "text/html": [
       "<div>\n",
       "<style scoped>\n",
       "    .dataframe tbody tr th:only-of-type {\n",
       "        vertical-align: middle;\n",
       "    }\n",
       "\n",
       "    .dataframe tbody tr th {\n",
       "        vertical-align: top;\n",
       "    }\n",
       "\n",
       "    .dataframe thead th {\n",
       "        text-align: right;\n",
       "    }\n",
       "</style>\n",
       "<table border=\"1\" class=\"dataframe\">\n",
       "  <thead>\n",
       "    <tr style=\"text-align: right;\">\n",
       "      <th></th>\n",
       "      <th>open</th>\n",
       "      <th>high</th>\n",
       "      <th>low</th>\n",
       "      <th>close</th>\n",
       "      <th>volume</th>\n",
       "      <th>value</th>\n",
       "    </tr>\n",
       "  </thead>\n",
       "  <tbody>\n",
       "    <tr>\n",
       "      <th>2020-04-27 09:00:00</th>\n",
       "      <td>9376000.0</td>\n",
       "      <td>11435000.0</td>\n",
       "      <td>9313000.0</td>\n",
       "      <td>10887000.0</td>\n",
       "      <td>54326.759691</td>\n",
       "      <td>5.670585e+11</td>\n",
       "    </tr>\n",
       "    <tr>\n",
       "      <th>2020-05-04 09:00:00</th>\n",
       "      <td>10882000.0</td>\n",
       "      <td>12163000.0</td>\n",
       "      <td>10220000.0</td>\n",
       "      <td>10671000.0</td>\n",
       "      <td>57745.862694</td>\n",
       "      <td>6.465873e+11</td>\n",
       "    </tr>\n",
       "    <tr>\n",
       "      <th>2020-05-11 09:00:00</th>\n",
       "      <td>10672000.0</td>\n",
       "      <td>11945000.0</td>\n",
       "      <td>10121000.0</td>\n",
       "      <td>11619000.0</td>\n",
       "      <td>53589.432283</td>\n",
       "      <td>5.976456e+11</td>\n",
       "    </tr>\n",
       "    <tr>\n",
       "      <th>2020-05-18 09:00:00</th>\n",
       "      <td>11619000.0</td>\n",
       "      <td>11899000.0</td>\n",
       "      <td>10630000.0</td>\n",
       "      <td>10664000.0</td>\n",
       "      <td>35539.053326</td>\n",
       "      <td>4.051402e+11</td>\n",
       "    </tr>\n",
       "    <tr>\n",
       "      <th>2020-05-25 09:00:00</th>\n",
       "      <td>10663000.0</td>\n",
       "      <td>11603000.0</td>\n",
       "      <td>10507000.0</td>\n",
       "      <td>11432000.0</td>\n",
       "      <td>24886.057777</td>\n",
       "      <td>2.771333e+11</td>\n",
       "    </tr>\n",
       "    <tr>\n",
       "      <th>...</th>\n",
       "      <td>...</td>\n",
       "      <td>...</td>\n",
       "      <td>...</td>\n",
       "      <td>...</td>\n",
       "      <td>...</td>\n",
       "      <td>...</td>\n",
       "    </tr>\n",
       "    <tr>\n",
       "      <th>2022-02-21 09:00:00</th>\n",
       "      <td>47133000.0</td>\n",
       "      <td>49010000.0</td>\n",
       "      <td>42580000.0</td>\n",
       "      <td>46358000.0</td>\n",
       "      <td>53085.910824</td>\n",
       "      <td>2.447081e+12</td>\n",
       "    </tr>\n",
       "    <tr>\n",
       "      <th>2022-02-28 09:00:00</th>\n",
       "      <td>46363000.0</td>\n",
       "      <td>54829000.0</td>\n",
       "      <td>46086000.0</td>\n",
       "      <td>47745000.0</td>\n",
       "      <td>52532.809872</td>\n",
       "      <td>2.680943e+12</td>\n",
       "    </tr>\n",
       "    <tr>\n",
       "      <th>2022-03-07 09:00:00</th>\n",
       "      <td>47782000.0</td>\n",
       "      <td>52300000.0</td>\n",
       "      <td>46525000.0</td>\n",
       "      <td>47510000.0</td>\n",
       "      <td>44922.437353</td>\n",
       "      <td>2.206165e+12</td>\n",
       "    </tr>\n",
       "    <tr>\n",
       "      <th>2022-03-14 09:00:00</th>\n",
       "      <td>47500000.0</td>\n",
       "      <td>51350000.0</td>\n",
       "      <td>47186000.0</td>\n",
       "      <td>50462000.0</td>\n",
       "      <td>46456.671166</td>\n",
       "      <td>2.310837e+12</td>\n",
       "    </tr>\n",
       "    <tr>\n",
       "      <th>2022-03-21 09:00:00</th>\n",
       "      <td>50471000.0</td>\n",
       "      <td>50756000.0</td>\n",
       "      <td>49832000.0</td>\n",
       "      <td>50061000.0</td>\n",
       "      <td>1307.376012</td>\n",
       "      <td>6.563238e+10</td>\n",
       "    </tr>\n",
       "  </tbody>\n",
       "</table>\n",
       "<p>100 rows × 6 columns</p>\n",
       "</div>"
      ],
      "text/plain": [
       "                           open        high         low       close  \\\n",
       "2020-04-27 09:00:00   9376000.0  11435000.0   9313000.0  10887000.0   \n",
       "2020-05-04 09:00:00  10882000.0  12163000.0  10220000.0  10671000.0   \n",
       "2020-05-11 09:00:00  10672000.0  11945000.0  10121000.0  11619000.0   \n",
       "2020-05-18 09:00:00  11619000.0  11899000.0  10630000.0  10664000.0   \n",
       "2020-05-25 09:00:00  10663000.0  11603000.0  10507000.0  11432000.0   \n",
       "...                         ...         ...         ...         ...   \n",
       "2022-02-21 09:00:00  47133000.0  49010000.0  42580000.0  46358000.0   \n",
       "2022-02-28 09:00:00  46363000.0  54829000.0  46086000.0  47745000.0   \n",
       "2022-03-07 09:00:00  47782000.0  52300000.0  46525000.0  47510000.0   \n",
       "2022-03-14 09:00:00  47500000.0  51350000.0  47186000.0  50462000.0   \n",
       "2022-03-21 09:00:00  50471000.0  50756000.0  49832000.0  50061000.0   \n",
       "\n",
       "                           volume         value  \n",
       "2020-04-27 09:00:00  54326.759691  5.670585e+11  \n",
       "2020-05-04 09:00:00  57745.862694  6.465873e+11  \n",
       "2020-05-11 09:00:00  53589.432283  5.976456e+11  \n",
       "2020-05-18 09:00:00  35539.053326  4.051402e+11  \n",
       "2020-05-25 09:00:00  24886.057777  2.771333e+11  \n",
       "...                           ...           ...  \n",
       "2022-02-21 09:00:00  53085.910824  2.447081e+12  \n",
       "2022-02-28 09:00:00  52532.809872  2.680943e+12  \n",
       "2022-03-07 09:00:00  44922.437353  2.206165e+12  \n",
       "2022-03-14 09:00:00  46456.671166  2.310837e+12  \n",
       "2022-03-21 09:00:00   1307.376012  6.563238e+10  \n",
       "\n",
       "[100 rows x 6 columns]"
      ]
     },
     "execution_count": 79,
     "metadata": {},
     "output_type": "execute_result"
    }
   ],
   "source": [
    "ticker =\"KRW-BTC\"\n",
    "interval=\"week\" #minute1은 1분씩 나오고 day는 하루 그리고 week은 주단위로 할 수 있음\n",
    "to=\"2022-01-01 00:00:00\"\n",
    "count=100\n",
    "upbit.get_ohlcv(ticker=ticker,interval=interval,count=count)  #to는 날짜까지 표시하는 것 to를 안쓰면 \n",
    "#period 숫자를 늘리면 할 수 있음\n"
   ]
  },
  {
   "cell_type": "code",
   "execution_count": null,
   "metadata": {},
   "outputs": [],
   "source": []
  },
  {
   "cell_type": "code",
   "execution_count": null,
   "metadata": {},
   "outputs": [],
   "source": []
  }
 ],
 "metadata": {
  "interpreter": {
   "hash": "f4ba335b1acc55db6b97d63129af6fbe6175843e0be64b2659003ca573354abf"
  },
  "kernelspec": {
   "display_name": "Python 3.10.1 64-bit",
   "language": "python",
   "name": "python3"
  },
  "language_info": {
   "codemirror_mode": {
    "name": "ipython",
    "version": 3
   },
   "file_extension": ".py",
   "mimetype": "text/x-python",
   "name": "python",
   "nbconvert_exporter": "python",
   "pygments_lexer": "ipython3",
   "version": "3.10.1"
  },
  "orig_nbformat": 4
 },
 "nbformat": 4,
 "nbformat_minor": 2
}
