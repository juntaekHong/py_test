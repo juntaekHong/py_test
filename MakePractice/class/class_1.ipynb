{
 "cells": [
  {
   "cell_type": "code",
   "execution_count": 2,
   "metadata": {},
   "outputs": [],
   "source": [
    "class Class_1():\n",
    "    def func_1(self):\n",
    "        print(\"Hello Wordl\")"
   ]
  },
  {
   "cell_type": "code",
   "execution_count": 3,
   "metadata": {},
   "outputs": [],
   "source": [
    "a=Class_1()\n",
    "a.func_1() #pandas,numpy등의 라이브러리에서 별칭점 함수\n",
    "            #모든 라이브러리는 class,안에 함수형태로 되어있는 모듈들\n",
    "            #이런식으로 구현이 되어있을 것.\n",
    "            \n"
   ]
  },
  {
   "cell_type": "code",
   "execution_count": 5,
   "metadata": {},
   "outputs": [
    {
     "name": "stdout",
     "output_type": "stream",
     "text": [
      "Hello World\n"
     ]
    }
   ],
   "source": [
    "class Class_2():\n",
    "    def func_2(self):\n",
    "        print(\"Hello World\")\n",
    "b=Class_2()\n",
    "b.func_2()\n"
   ]
  },
  {
   "cell_type": "code",
   "execution_count": 9,
   "metadata": {},
   "outputs": [],
   "source": [
    "class Class_3(): #self.a input_a라는 변수를 넣어줌,self.b도 마찬가지\n",
    "    def __init__(self, input_a,input_b): #init은 class를 생성할때 \n",
    "                                        #자동적으로 생성이 되는 함수\n",
    "        self.a=input_a #self.a는 변수라고 생각하면 됨.\n",
    "        self.b=input_b #self.b도 변수라고 생각하면 됨.\n",
    "#init이라고 하는 함수는 class를 생성하면서 초기화\n",
    "#class 생성할때 init이라는 함수가 같이 돌 것.\n",
    "\n",
    "c= Class_3(\"test\",\"test2\")\n",
    "#Class_3변수를 통해서 class를 공유할 수 있게 끔해줌"
   ]
  },
  {
   "cell_type": "code",
   "execution_count": 12,
   "metadata": {},
   "outputs": [
    {
     "data": {
      "text/plain": [
       "'test2'"
      ]
     },
     "execution_count": 12,
     "metadata": {},
     "output_type": "execute_result"
    }
   ],
   "source": [
    "c.a #test\n",
    "c.b #test2"
   ]
  },
  {
   "cell_type": "code",
   "execution_count": 13,
   "metadata": {},
   "outputs": [],
   "source": [
    "d= Class_3(\"test3\",\"test4\")"
   ]
  },
  {
   "cell_type": "code",
   "execution_count": 16,
   "metadata": {},
   "outputs": [
    {
     "data": {
      "text/plain": [
       "'test'"
      ]
     },
     "execution_count": 16,
     "metadata": {},
     "output_type": "execute_result"
    }
   ],
   "source": [
    "d.a#test3\n",
    "d.b#test4\n",
    "c.a"
   ]
  },
  {
   "cell_type": "code",
   "execution_count": 17,
   "metadata": {},
   "outputs": [
    {
     "data": {
      "text/plain": [
       "2274289249072"
      ]
     },
     "execution_count": 17,
     "metadata": {},
     "output_type": "execute_result"
    }
   ],
   "source": [
    "#class변수는 서로 독립적인 공간에 있음.\n",
    "#id는 어디에 변수가 저장이 되어있는지 알 수 있음.\n",
    "id(c.b)\n"
   ]
  },
  {
   "cell_type": "code",
   "execution_count": 18,
   "metadata": {},
   "outputs": [
    {
     "data": {
      "text/plain": [
       "2276330196208"
      ]
     },
     "execution_count": 18,
     "metadata": {},
     "output_type": "execute_result"
    }
   ],
   "source": [
    "id(c.a)"
   ]
  },
  {
   "cell_type": "code",
   "execution_count": 19,
   "metadata": {},
   "outputs": [
    {
     "data": {
      "text/plain": [
       "2274289249712"
      ]
     },
     "execution_count": 19,
     "metadata": {},
     "output_type": "execute_result"
    }
   ],
   "source": [
    "id(d.a)"
   ]
  },
  {
   "cell_type": "code",
   "execution_count": 20,
   "metadata": {},
   "outputs": [
    {
     "data": {
      "text/plain": [
       "2274257475632"
      ]
     },
     "execution_count": 20,
     "metadata": {},
     "output_type": "execute_result"
    }
   ],
   "source": [
    "id(d.b)"
   ]
  },
  {
   "cell_type": "code",
   "execution_count": 2,
   "metadata": {},
   "outputs": [],
   "source": [
    "class Class_4(): #class_4() 선언 self를 붙이지 않은 것이 여기에 속하고\n",
    "                 #A=class_4() init 함수를 통해서 초기화한다음 다시 지정해서 저장함 Self.c=input_c ,self를 붙인건 요기\n",
    "                 \n",
    "                 #B=class_4() init 함수를 통해서 Self.c=input_c,self를 붙인건 요기\n",
    "                 #C=class_4() init 함수를 통해서 Self.c=input_c,self를 붙인건 요기\n",
    "    \n",
    "    name=\"test\" #name이 클래스변수\n",
    "    \n",
    "    \n",
    "    def __init__(self,input_c):\n",
    "        self.c =input_c\n",
    "        \n",
    "a=Class_4(\"123\")\n",
    "b=Class_4(\"456\")\n",
    "c=Class_4(\"789\")\n"
   ]
  },
  {
   "cell_type": "markdown",
   "metadata": {},
   "source": []
  },
  {
   "cell_type": "code",
   "execution_count": 3,
   "metadata": {},
   "outputs": [
    {
     "name": "stdout",
     "output_type": "stream",
     "text": [
      "3205534075888\n",
      "3205534075888\n",
      "3205534075888\n",
      "3205600905264\n",
      "3205605025136\n",
      "3205605028208\n"
     ]
    }
   ],
   "source": [
    "#print(a.name,b.name,c.name)#name이 클래스변수라 공유가 되고 있음.\n",
    "#print(a.c,b.c,c.c)\n",
    "print(id(a.name))#name이라고하는 클래스변수는 같은 곳에서 가지고 옴을 알 수 있음\n",
    "print(id(b.name))\n",
    "print(id(c.name))\n",
    "print(id(a.c))\n",
    "print(id(b.c))\n",
    "print(id(c.c))"
   ]
  },
  {
   "cell_type": "code",
   "execution_count": 126,
   "metadata": {},
   "outputs": [
    {
     "name": "stdout",
     "output_type": "stream",
     "text": [
      "['01012345678', '01098765431'] ['01012345678', '01098765431']\n"
     ]
    }
   ],
   "source": [
    "class Class_5():# class_5() 선언할때 _list=[]가 돼서  def 안에 있는 것이 append가 돼서\n",
    "                #위로 올라오게 되어 있고 거기에서 출력이 됨.\n",
    "    _list=[]\n",
    "\n",
    "        \n",
    "    def __init__(self,input_name):#컨스트럭터라고 불리는 초기화를 위한 함수(메소드)\n",
    "                                #인스턴스화를 실시할 때 반드시 처음에 호출되는 특수한 함수\n",
    "                                #오브젝트 생성(인스턴스를 생성)과 관련하여 데이터의 초기를 실시하는 함수\n",
    "                                 #__init__()은 반드시 첫 번째 인수로 self를 지정해야한다.\n",
    "                                 # self에는 인스턴스 자체가 전달되어 있다. 이로 인해, \n",
    "                                 # 최과 메소드 내에 인스턴스 변수를 작성하거나, 참고하는 것이 가능해진다.\n",
    "                                 # 클래스를 생성할 때에 지정한 인수는 초기화 메소드의 2 번째부터 작성해 나가면 된다.\n",
    "                                 \n",
    "        self.name=input_name\n",
    "    def add_list(self,input_phone):\n",
    "        \n",
    "        self._list.append(input_phone)\n",
    "\n",
    "\n",
    "d=Class_5(\"test\")\n",
    "e=Class_5(\"test2\")\n",
    "d.add_list(\"01012345678\")\n",
    "e.add_list(\"01098765431\")\n",
    "print(d._list,e._list)\n"
   ]
  },
  {
   "cell_type": "code",
   "execution_count": 56,
   "metadata": {},
   "outputs": [
    {
     "name": "stdout",
     "output_type": "stream",
     "text": [
      "['01012345678'] ['01098765431']\n"
     ]
    }
   ],
   "source": [
    "\n",
    "class Class_5():\n",
    "\n",
    "    \n",
    "    def __init__(self,input_name):\n",
    "        self.name=input_name\n",
    "        self._list=[] #초기화되지 않고 계속 독립적으로 추가 하게끔하기 위해서\n",
    "    \n",
    "    def add_list(self,input_phone):\n",
    "       \n",
    "        self._list.append(input_phone)\n",
    "\n",
    "d=Class_5(\"test2\")\n",
    "e=Class_5(\"test\")\n",
    "d.add_list(\"01012345678\")\n",
    "e.add_list(\"01098765431\")\n",
    "print(d._list,e._list)"
   ]
  },
  {
   "cell_type": "code",
   "execution_count": 57,
   "metadata": {},
   "outputs": [
    {
     "name": "stdout",
     "output_type": "stream",
     "text": [
      "['01012345678', '2638134'] ['01098765431', '7192734']\n"
     ]
    }
   ],
   "source": [
    "d.add_list(\"2638134\")\n",
    "e.add_list(\"7192734\")\n",
    "print(d._list,e._list)"
   ]
  },
  {
   "cell_type": "code",
   "execution_count": 55,
   "metadata": {},
   "outputs": [
    {
     "name": "stdout",
     "output_type": "stream",
     "text": [
      "test2 test\n"
     ]
    }
   ],
   "source": [
    "print(d.name,e.name)"
   ]
  },
  {
   "cell_type": "code",
   "execution_count": 59,
   "metadata": {},
   "outputs": [
    {
     "name": "stdout",
     "output_type": "stream",
     "text": [
      "3\n",
      "7\n"
     ]
    }
   ],
   "source": [
    "sum = 0\n",
    "\n",
    "def add(x):\n",
    "    global sum\n",
    "    sum += x\n",
    "    \n",
    "    return sum\n",
    "print(add(3))\n",
    "print(add(4))"
   ]
  },
  {
   "cell_type": "code",
   "execution_count": 61,
   "metadata": {},
   "outputs": [
    {
     "name": "stdout",
     "output_type": "stream",
     "text": [
      "3\n",
      "4\n",
      "13\n",
      "5\n"
     ]
    }
   ],
   "source": [
    "sum_1=0\n",
    "sum_2 =0\n",
    "def add_1(x):\n",
    "    global sum_1 #global은 함수안에서 전역변수를 선언하는 것.\n",
    "    sum_1 += x\n",
    "    return sum_1\n",
    "\n",
    "def add_2(x):\n",
    "    global sum_2 #global은 함수안에서 전역변수를 선언하는 것.\n",
    "    sum_2 += x\n",
    "    return sum_2\n",
    "\n",
    "print(add_1(3))\n",
    "print(add_2(4))\n",
    "print(add_1(10))\n",
    "print(add_2(1))"
   ]
  },
  {
   "cell_type": "code",
   "execution_count": 76,
   "metadata": {},
   "outputs": [
    {
     "name": "stdout",
     "output_type": "stream",
     "text": [
      "4\n",
      "7\n",
      "11\n",
      "14\n"
     ]
    }
   ],
   "source": [
    "class Class_6():\n",
    "    def __init__(self):\n",
    "        self.a=0\n",
    "        \n",
    "    \n",
    "    def second_(self,input_second):\n",
    "        self.a += input_second\n",
    "        return self.a\n",
    "        \n",
    "a=Class_6()\n",
    "b=Class_6()\n",
    "\n",
    "print(a.second_(4))\n",
    "print(b.second_(7))\n",
    "print(a.second_(7))\n",
    "print(b.second_(7))\n",
    "    \n",
    "    "
   ]
  },
  {
   "cell_type": "code",
   "execution_count": 92,
   "metadata": {},
   "outputs": [
    {
     "name": "stdout",
     "output_type": "stream",
     "text": [
      "27\n",
      "8.0\n",
      "72\n",
      "21\n"
     ]
    }
   ],
   "source": [
    "# Class 생성-> 초기에 인자값 2개를 입력받아서 변수2개 이 값들을 지정\n",
    "# 첫번째 함수 변수 2개의 값을 변경을 하는 함수\n",
    "# 이 후에 6개의 함수는 변수 2개의 +,-,*,/,%(나머지),**(제곱)의 함수를 생성\n",
    "#7개의 함수를 다 실행을 해봅시다.\n",
    "class Class_7():\n",
    "    def __init__(self,input_a,input_b):\n",
    "        self.a=input_a\n",
    "        self.b=input_b\n",
    "    # 클래스가 생성이 되고 인자 값 2개를 변수 2개에 지정을 해주는 과정\n",
    "    #self.a,self.b 변수라고 생각하면 됨.\n",
    "    \n",
    "    def __change__(self,input_a,input_b):\n",
    "        self.a=input_a\n",
    "        self.b=input_b\n",
    "    \n",
    "    def sum_(self):\n",
    "        self.sum__ = self.a + self.b\n",
    "        return self.sum__\n",
    "    \n",
    "    def min_(self):\n",
    "        self.min__ = self.a - self.b\n",
    "        return self.min__\n",
    "    \n",
    "    def multi_(self):\n",
    "        self.multi__ = self.a * self.b\n",
    "        return self.multi__\n",
    "    \n",
    "    def nanu_(self):\n",
    "        if self.b==0:\n",
    "            print(0)\n",
    "        else:\n",
    "            self.nanu__ = self.a / self.b\n",
    "            return self.nanu__\n",
    "    \n",
    "    def namu_(self):\n",
    "        if self.b==0:\n",
    "            print(0) \n",
    "        else:\n",
    "            self.namu__ = self.a % self.b\n",
    "            return self.namu__\n",
    "\n",
    "a=Class_7(24,3)\n",
    "print(a.sum_())\n",
    "print(a.nanu_())\n",
    "print(a.multi_())\n",
    "print(a.min_())\n"
   ]
  },
  {
   "cell_type": "code",
   "execution_count": 93,
   "metadata": {},
   "outputs": [
    {
     "name": "stdout",
     "output_type": "stream",
     "text": [
      "24\n",
      "0\n",
      "None\n",
      "0\n",
      "24\n"
     ]
    }
   ],
   "source": [
    "a=Class_7(24,0)\n",
    "print(a.sum_())\n",
    "print(a.nanu_())\n",
    "print(a.multi_())\n",
    "print(a.min_())"
   ]
  },
  {
   "cell_type": "code",
   "execution_count": 108,
   "metadata": {},
   "outputs": [
    {
     "name": "stdout",
     "output_type": "stream",
     "text": [
      "지정된 값이 아니다.\n"
     ]
    }
   ],
   "source": [
    "#### class 밑변의 길이, 높이 두 변수를 인자 값으로 넣어주는 클래스를 생성\n",
    "### 삼각형일 때 넓이, 사각형의 넓이를 구하는 함수를 생성\n",
    "### 함수는 init을 제외한 단 1개의 함수로 구성이 되는 클래스를 생성.\n",
    "\n",
    "class Class_8():\n",
    "    def __init__(self,input_a,input_b):\n",
    "        self.a = input_a\n",
    "        self.b = input_b\n",
    "    \n",
    "    def width_(self,input_c):\n",
    "        self.guess = input_c\n",
    "        if  self.guess==\"삼각형\":\n",
    "            self.tri= self.a* self.b * 0.5\n",
    "            return self.tri\n",
    "        elif self.guess==\"사각형\":\n",
    "            self.square= self.a * self.b\n",
    "            return self.square\n",
    "        else:\n",
    "            return \"지정된 값이 아니다.\"\n",
    "        \n",
    "\n",
    "w=Class_8(3,8)\n",
    "print(w.width_(\"삼각형\"))\n"
   ]
  },
  {
   "cell_type": "code",
   "execution_count": 112,
   "metadata": {},
   "outputs": [
    {
     "name": "stdout",
     "output_type": "stream",
     "text": [
      "[18.84, 28.26]\n"
     ]
    }
   ],
   "source": [
    "class Class_9():#파이값은 넓이나,둘레 모두 공통으로 들어가기 때문에 넣어줌\n",
    "    _pie = 3.14\n",
    "    \n",
    "    def area(self,r):\n",
    "        self.result =[]\n",
    "        self.result.append(2*self._pie*r)\n",
    "        self.result.append(self._pie*(r ** 2))\n",
    "        return self.result\n",
    "        \n",
    "x= Class_9()\n",
    "\n",
    "print(x.area(3))\n",
    "    "
   ]
  },
  {
   "cell_type": "code",
   "execution_count": 123,
   "metadata": {},
   "outputs": [
    {
     "name": "stdout",
     "output_type": "stream",
     "text": [
      "[15.42, 14.13]\n",
      "[24.84, 28.26]\n",
      "[18.84, 28.26]\n"
     ]
    }
   ],
   "source": [
    "class Class_10(Class_9):#속성은 변수(값) 메소드는 함수\n",
    "    def __init__(self,input_r):#class생성할때 초기화시켜줌\n",
    "        self.r=input_r\n",
    "    \n",
    "    def half (self):\n",
    "        self.result = []\n",
    "        self.result.append(self._pie * self.r + 2*self.r)\n",
    "        self.result.append(self._pie * (self.r**2)/2)\n",
    "        return self.result\n",
    "    \n",
    "    #def area(self):#수정하려면 그 함수안에 있는 것을 똑같이 지정해서 하지만 매개변수값은 받지 않음\n",
    "        self.result =[] #init에서 받아오는 r을 받아서 넣음\n",
    "        self.result.append(2*self._pie * self.r + 2*self.r)\n",
    "        self.result.append(self._pie * (self.r**2))\n",
    "        return self.result\n",
    "#클래스 10에서 init값에 매개변수 필요하기 때문에,인자 값을 넣어줌\n",
    "#_pie 같이 공유할 수 있음.\n",
    "#\n",
    "y=Class_10(3)#class에 넣어줘야할 때는 init을 써줌\n",
    "\n",
    "print(y.half())\n",
    "print(y.area())#area수정전에는 print(y.area(3))인자값을 넣어줘야 에러가 안남\n",
    "#print(x.area(3)) #class9는 아직 살아있음\n",
    "\n",
    "        "
   ]
  },
  {
   "cell_type": "code",
   "execution_count": null,
   "metadata": {},
   "outputs": [],
   "source": []
  }
 ],
 "metadata": {
  "interpreter": {
   "hash": "f4ba335b1acc55db6b97d63129af6fbe6175843e0be64b2659003ca573354abf"
  },
  "kernelspec": {
   "display_name": "Python 3.10.1 64-bit",
   "language": "python",
   "name": "python3"
  },
  "language_info": {
   "codemirror_mode": {
    "name": "ipython",
    "version": 3
   },
   "file_extension": ".py",
   "mimetype": "text/x-python",
   "name": "python",
   "nbconvert_exporter": "python",
   "pygments_lexer": "ipython3",
   "version": "3.10.1"
  },
  "orig_nbformat": 4
 },
 "nbformat": 4,
 "nbformat_minor": 2
}
